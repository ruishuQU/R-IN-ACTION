{
 "cells": [
  {
   "cell_type": "code",
   "execution_count": 1,
   "id": "b34ed196",
   "metadata": {
    "ExecuteTime": {
     "end_time": "2022-05-02T08:58:55.324347Z",
     "start_time": "2022-05-02T08:58:55.290Z"
    }
   },
   "outputs": [
    {
     "data": {
      "text/html": [
       "<table class=\"dataframe\">\n",
       "<caption>A data.frame: 6 × 3</caption>\n",
       "<thead>\n",
       "\t<tr><th></th><th scope=col>mpg</th><th scope=col>hp</th><th scope=col>wt</th></tr>\n",
       "\t<tr><th></th><th scope=col>&lt;dbl&gt;</th><th scope=col>&lt;dbl&gt;</th><th scope=col>&lt;dbl&gt;</th></tr>\n",
       "</thead>\n",
       "<tbody>\n",
       "\t<tr><th scope=row>Mazda RX4</th><td>21.0</td><td>110</td><td>2.620</td></tr>\n",
       "\t<tr><th scope=row>Mazda RX4 Wag</th><td>21.0</td><td>110</td><td>2.875</td></tr>\n",
       "\t<tr><th scope=row>Datsun 710</th><td>22.8</td><td> 93</td><td>2.320</td></tr>\n",
       "\t<tr><th scope=row>Hornet 4 Drive</th><td>21.4</td><td>110</td><td>3.215</td></tr>\n",
       "\t<tr><th scope=row>Hornet Sportabout</th><td>18.7</td><td>175</td><td>3.440</td></tr>\n",
       "\t<tr><th scope=row>Valiant</th><td>18.1</td><td>105</td><td>3.460</td></tr>\n",
       "</tbody>\n",
       "</table>\n"
      ],
      "text/latex": [
       "A data.frame: 6 × 3\n",
       "\\begin{tabular}{r|lll}\n",
       "  & mpg & hp & wt\\\\\n",
       "  & <dbl> & <dbl> & <dbl>\\\\\n",
       "\\hline\n",
       "\tMazda RX4 & 21.0 & 110 & 2.620\\\\\n",
       "\tMazda RX4 Wag & 21.0 & 110 & 2.875\\\\\n",
       "\tDatsun 710 & 22.8 &  93 & 2.320\\\\\n",
       "\tHornet 4 Drive & 21.4 & 110 & 3.215\\\\\n",
       "\tHornet Sportabout & 18.7 & 175 & 3.440\\\\\n",
       "\tValiant & 18.1 & 105 & 3.460\\\\\n",
       "\\end{tabular}\n"
      ],
      "text/markdown": [
       "\n",
       "A data.frame: 6 × 3\n",
       "\n",
       "| <!--/--> | mpg &lt;dbl&gt; | hp &lt;dbl&gt; | wt &lt;dbl&gt; |\n",
       "|---|---|---|---|\n",
       "| Mazda RX4 | 21.0 | 110 | 2.620 |\n",
       "| Mazda RX4 Wag | 21.0 | 110 | 2.875 |\n",
       "| Datsun 710 | 22.8 |  93 | 2.320 |\n",
       "| Hornet 4 Drive | 21.4 | 110 | 3.215 |\n",
       "| Hornet Sportabout | 18.7 | 175 | 3.440 |\n",
       "| Valiant | 18.1 | 105 | 3.460 |\n",
       "\n"
      ],
      "text/plain": [
       "                  mpg  hp  wt   \n",
       "Mazda RX4         21.0 110 2.620\n",
       "Mazda RX4 Wag     21.0 110 2.875\n",
       "Datsun 710        22.8  93 2.320\n",
       "Hornet 4 Drive    21.4 110 3.215\n",
       "Hornet Sportabout 18.7 175 3.440\n",
       "Valiant           18.1 105 3.460"
      ]
     },
     "metadata": {},
     "output_type": "display_data"
    }
   ],
   "source": [
    "# 7.1 描述性统计分析\n",
    "myvars <- c(\"mpg\", \"hp\", \"wt\")\n",
    "head(mtcars[myvars]) "
   ]
  },
  {
   "cell_type": "code",
   "execution_count": 2,
   "id": "644cef2c",
   "metadata": {
    "ExecuteTime": {
     "end_time": "2022-05-02T08:59:21.773798Z",
     "start_time": "2022-05-02T08:59:21.748Z"
    }
   },
   "outputs": [
    {
     "data": {
      "text/plain": [
       "      mpg              hp              wt       \n",
       " Min.   :10.40   Min.   : 52.0   Min.   :1.513  \n",
       " 1st Qu.:15.43   1st Qu.: 96.5   1st Qu.:2.581  \n",
       " Median :19.20   Median :123.0   Median :3.325  \n",
       " Mean   :20.09   Mean   :146.7   Mean   :3.217  \n",
       " 3rd Qu.:22.80   3rd Qu.:180.0   3rd Qu.:3.610  \n",
       " Max.   :33.90   Max.   :335.0   Max.   :5.424  "
      ]
     },
     "metadata": {},
     "output_type": "display_data"
    }
   ],
   "source": [
    "# 7.1.1 方法云集\n",
    "# 7-1 通过summary()计算描述性统计量\n",
    "myvars <- c(\"mpg\", \"hp\", \"wt\")\n",
    "summary(mtcars[myvars]) "
   ]
  },
  {
   "cell_type": "code",
   "execution_count": 3,
   "id": "f3c685d6",
   "metadata": {
    "ExecuteTime": {
     "end_time": "2022-05-02T09:00:02.565507Z",
     "start_time": "2022-05-02T09:00:02.524Z"
    }
   },
   "outputs": [
    {
     "data": {
      "text/html": [
       "<table class=\"dataframe\">\n",
       "<caption>A matrix: 5 × 3 of type dbl</caption>\n",
       "<thead>\n",
       "\t<tr><th></th><th scope=col>mpg</th><th scope=col>hp</th><th scope=col>wt</th></tr>\n",
       "</thead>\n",
       "<tbody>\n",
       "\t<tr><th scope=row>n</th><td>32.000000</td><td> 32.0000000</td><td>32.00000000</td></tr>\n",
       "\t<tr><th scope=row>mean</th><td>20.090625</td><td>146.6875000</td><td> 3.21725000</td></tr>\n",
       "\t<tr><th scope=row>stdev</th><td> 6.026948</td><td> 68.5628685</td><td> 0.97845744</td></tr>\n",
       "\t<tr><th scope=row>skew</th><td> 0.610655</td><td>  0.7260237</td><td> 0.42314646</td></tr>\n",
       "\t<tr><th scope=row>kurtosis</th><td>-0.372766</td><td> -0.1355511</td><td>-0.02271075</td></tr>\n",
       "</tbody>\n",
       "</table>\n"
      ],
      "text/latex": [
       "A matrix: 5 × 3 of type dbl\n",
       "\\begin{tabular}{r|lll}\n",
       "  & mpg & hp & wt\\\\\n",
       "\\hline\n",
       "\tn & 32.000000 &  32.0000000 & 32.00000000\\\\\n",
       "\tmean & 20.090625 & 146.6875000 &  3.21725000\\\\\n",
       "\tstdev &  6.026948 &  68.5628685 &  0.97845744\\\\\n",
       "\tskew &  0.610655 &   0.7260237 &  0.42314646\\\\\n",
       "\tkurtosis & -0.372766 &  -0.1355511 & -0.02271075\\\\\n",
       "\\end{tabular}\n"
      ],
      "text/markdown": [
       "\n",
       "A matrix: 5 × 3 of type dbl\n",
       "\n",
       "| <!--/--> | mpg | hp | wt |\n",
       "|---|---|---|---|\n",
       "| n | 32.000000 |  32.0000000 | 32.00000000 |\n",
       "| mean | 20.090625 | 146.6875000 |  3.21725000 |\n",
       "| stdev |  6.026948 |  68.5628685 |  0.97845744 |\n",
       "| skew |  0.610655 |   0.7260237 |  0.42314646 |\n",
       "| kurtosis | -0.372766 |  -0.1355511 | -0.02271075 |\n",
       "\n"
      ],
      "text/plain": [
       "         mpg       hp          wt         \n",
       "n        32.000000  32.0000000 32.00000000\n",
       "mean     20.090625 146.6875000  3.21725000\n",
       "stdev     6.026948  68.5628685  0.97845744\n",
       "skew      0.610655   0.7260237  0.42314646\n",
       "kurtosis -0.372766  -0.1355511 -0.02271075"
      ]
     },
     "metadata": {},
     "output_type": "display_data"
    }
   ],
   "source": [
    "# 7-2 通过sapply()计算描述性统计量\n",
    "mystats <- function(x, na.omit=FALSE){\n",
    " if (na.omit)\n",
    " x <- x[!is.na(x)]\n",
    " m <- mean(x)\n",
    " n <- length(x)\n",
    " s <- sd(x)\n",
    " skew <- sum((x-m)^3/s^3)/n\n",
    " kurt <- sum((x-m)^4/s^4)/n - 3\n",
    " return(c(n=n, mean=m, stdev=s, skew=skew, kurtosis=kurt))\n",
    " }\n",
    "\n",
    "myvars <- c(\"mpg\", \"hp\", \"wt\")\n",
    "sapply(mtcars[myvars], mystats)"
   ]
  },
  {
   "cell_type": "code",
   "execution_count": 4,
   "id": "1f899cda",
   "metadata": {
    "ExecuteTime": {
     "end_time": "2022-05-02T09:08:51.997087Z",
     "start_time": "2022-05-02T09:08:47.518Z"
    }
   },
   "outputs": [
    {
     "name": "stderr",
     "output_type": "stream",
     "text": [
      "Loading required package: lattice\n",
      "\n",
      "Loading required package: survival\n",
      "\n",
      "Loading required package: Formula\n",
      "\n",
      "Loading required package: ggplot2\n",
      "\n",
      "\n",
      "Attaching package: 'Hmisc'\n",
      "\n",
      "\n",
      "The following objects are masked from 'package:base':\n",
      "\n",
      "    format.pval, units\n",
      "\n",
      "\n"
     ]
    },
    {
     "data": {
      "text/plain": [
       "mtcars[myvars] \n",
       "\n",
       " 3  Variables      32  Observations\n",
       "--------------------------------------------------------------------------------\n",
       "mpg \n",
       "       n  missing distinct     Info     Mean      Gmd      .05      .10 \n",
       "      32        0       25    0.999    20.09    6.796    12.00    14.34 \n",
       "     .25      .50      .75      .90      .95 \n",
       "   15.43    19.20    22.80    30.09    31.30 \n",
       "\n",
       "lowest : 10.4 13.3 14.3 14.7 15.0, highest: 26.0 27.3 30.4 32.4 33.9\n",
       "--------------------------------------------------------------------------------\n",
       "hp \n",
       "       n  missing distinct     Info     Mean      Gmd      .05      .10 \n",
       "      32        0       22    0.997    146.7    77.04    63.65    66.00 \n",
       "     .25      .50      .75      .90      .95 \n",
       "   96.50   123.00   180.00   243.50   253.55 \n",
       "\n",
       "lowest :  52  62  65  66  91, highest: 215 230 245 264 335\n",
       "--------------------------------------------------------------------------------\n",
       "wt \n",
       "       n  missing distinct     Info     Mean      Gmd      .05      .10 \n",
       "      32        0       29    0.999    3.217    1.089    1.736    1.956 \n",
       "     .25      .50      .75      .90      .95 \n",
       "   2.581    3.325    3.610    4.048    5.293 \n",
       "\n",
       "lowest : 1.513 1.615 1.835 1.935 2.140, highest: 3.845 4.070 5.250 5.345 5.424\n",
       "--------------------------------------------------------------------------------"
      ]
     },
     "metadata": {},
     "output_type": "display_data"
    }
   ],
   "source": [
    "# 7.1.2 更多方法\n",
    "# 7-3 通过Hmisc包中的describe()函数计算描述性统计量\n",
    "library(Hmisc)\n",
    "myvars <- c(\"mpg\", \"hp\", \"wt\")\n",
    "describe(mtcars[myvars]) "
   ]
  },
  {
   "cell_type": "code",
   "execution_count": 6,
   "id": "919d6461",
   "metadata": {
    "ExecuteTime": {
     "end_time": "2022-05-02T09:10:01.981322Z",
     "start_time": "2022-05-02T09:10:01.678Z"
    }
   },
   "outputs": [
    {
     "data": {
      "text/html": [
       "<table class=\"dataframe\">\n",
       "<caption>A data.frame: 14 × 3</caption>\n",
       "<thead>\n",
       "\t<tr><th></th><th scope=col>mpg</th><th scope=col>hp</th><th scope=col>wt</th></tr>\n",
       "\t<tr><th></th><th scope=col>&lt;dbl&gt;</th><th scope=col>&lt;dbl&gt;</th><th scope=col>&lt;dbl&gt;</th></tr>\n",
       "</thead>\n",
       "<tbody>\n",
       "\t<tr><th scope=row>nbr.val</th><td> 32.0000000</td><td>  32.0000000</td><td> 32.0000000</td></tr>\n",
       "\t<tr><th scope=row>nbr.null</th><td>  0.0000000</td><td>   0.0000000</td><td>  0.0000000</td></tr>\n",
       "\t<tr><th scope=row>nbr.na</th><td>  0.0000000</td><td>   0.0000000</td><td>  0.0000000</td></tr>\n",
       "\t<tr><th scope=row>min</th><td> 10.4000000</td><td>  52.0000000</td><td>  1.5130000</td></tr>\n",
       "\t<tr><th scope=row>max</th><td> 33.9000000</td><td> 335.0000000</td><td>  5.4240000</td></tr>\n",
       "\t<tr><th scope=row>range</th><td> 23.5000000</td><td> 283.0000000</td><td>  3.9110000</td></tr>\n",
       "\t<tr><th scope=row>sum</th><td>642.9000000</td><td>4694.0000000</td><td>102.9520000</td></tr>\n",
       "\t<tr><th scope=row>median</th><td> 19.2000000</td><td> 123.0000000</td><td>  3.3250000</td></tr>\n",
       "\t<tr><th scope=row>mean</th><td> 20.0906250</td><td> 146.6875000</td><td>  3.2172500</td></tr>\n",
       "\t<tr><th scope=row>SE.mean</th><td>  1.0654240</td><td>  12.1203173</td><td>  0.1729685</td></tr>\n",
       "\t<tr><th scope=row>CI.mean.0.95</th><td>  2.1729465</td><td>  24.7195501</td><td>  0.3527715</td></tr>\n",
       "\t<tr><th scope=row>var</th><td> 36.3241028</td><td>4700.8669355</td><td>  0.9573790</td></tr>\n",
       "\t<tr><th scope=row>std.dev</th><td>  6.0269481</td><td>  68.5628685</td><td>  0.9784574</td></tr>\n",
       "\t<tr><th scope=row>coef.var</th><td>  0.2999881</td><td>   0.4674077</td><td>  0.3041285</td></tr>\n",
       "</tbody>\n",
       "</table>\n"
      ],
      "text/latex": [
       "A data.frame: 14 × 3\n",
       "\\begin{tabular}{r|lll}\n",
       "  & mpg & hp & wt\\\\\n",
       "  & <dbl> & <dbl> & <dbl>\\\\\n",
       "\\hline\n",
       "\tnbr.val &  32.0000000 &   32.0000000 &  32.0000000\\\\\n",
       "\tnbr.null &   0.0000000 &    0.0000000 &   0.0000000\\\\\n",
       "\tnbr.na &   0.0000000 &    0.0000000 &   0.0000000\\\\\n",
       "\tmin &  10.4000000 &   52.0000000 &   1.5130000\\\\\n",
       "\tmax &  33.9000000 &  335.0000000 &   5.4240000\\\\\n",
       "\trange &  23.5000000 &  283.0000000 &   3.9110000\\\\\n",
       "\tsum & 642.9000000 & 4694.0000000 & 102.9520000\\\\\n",
       "\tmedian &  19.2000000 &  123.0000000 &   3.3250000\\\\\n",
       "\tmean &  20.0906250 &  146.6875000 &   3.2172500\\\\\n",
       "\tSE.mean &   1.0654240 &   12.1203173 &   0.1729685\\\\\n",
       "\tCI.mean.0.95 &   2.1729465 &   24.7195501 &   0.3527715\\\\\n",
       "\tvar &  36.3241028 & 4700.8669355 &   0.9573790\\\\\n",
       "\tstd.dev &   6.0269481 &   68.5628685 &   0.9784574\\\\\n",
       "\tcoef.var &   0.2999881 &    0.4674077 &   0.3041285\\\\\n",
       "\\end{tabular}\n"
      ],
      "text/markdown": [
       "\n",
       "A data.frame: 14 × 3\n",
       "\n",
       "| <!--/--> | mpg &lt;dbl&gt; | hp &lt;dbl&gt; | wt &lt;dbl&gt; |\n",
       "|---|---|---|---|\n",
       "| nbr.val |  32.0000000 |   32.0000000 |  32.0000000 |\n",
       "| nbr.null |   0.0000000 |    0.0000000 |   0.0000000 |\n",
       "| nbr.na |   0.0000000 |    0.0000000 |   0.0000000 |\n",
       "| min |  10.4000000 |   52.0000000 |   1.5130000 |\n",
       "| max |  33.9000000 |  335.0000000 |   5.4240000 |\n",
       "| range |  23.5000000 |  283.0000000 |   3.9110000 |\n",
       "| sum | 642.9000000 | 4694.0000000 | 102.9520000 |\n",
       "| median |  19.2000000 |  123.0000000 |   3.3250000 |\n",
       "| mean |  20.0906250 |  146.6875000 |   3.2172500 |\n",
       "| SE.mean |   1.0654240 |   12.1203173 |   0.1729685 |\n",
       "| CI.mean.0.95 |   2.1729465 |   24.7195501 |   0.3527715 |\n",
       "| var |  36.3241028 | 4700.8669355 |   0.9573790 |\n",
       "| std.dev |   6.0269481 |   68.5628685 |   0.9784574 |\n",
       "| coef.var |   0.2999881 |    0.4674077 |   0.3041285 |\n",
       "\n"
      ],
      "text/plain": [
       "             mpg         hp           wt         \n",
       "nbr.val       32.0000000   32.0000000  32.0000000\n",
       "nbr.null       0.0000000    0.0000000   0.0000000\n",
       "nbr.na         0.0000000    0.0000000   0.0000000\n",
       "min           10.4000000   52.0000000   1.5130000\n",
       "max           33.9000000  335.0000000   5.4240000\n",
       "range         23.5000000  283.0000000   3.9110000\n",
       "sum          642.9000000 4694.0000000 102.9520000\n",
       "median        19.2000000  123.0000000   3.3250000\n",
       "mean          20.0906250  146.6875000   3.2172500\n",
       "SE.mean        1.0654240   12.1203173   0.1729685\n",
       "CI.mean.0.95   2.1729465   24.7195501   0.3527715\n",
       "var           36.3241028 4700.8669355   0.9573790\n",
       "std.dev        6.0269481   68.5628685   0.9784574\n",
       "coef.var       0.2999881    0.4674077   0.3041285"
      ]
     },
     "metadata": {},
     "output_type": "display_data"
    }
   ],
   "source": [
    "# 7-4 通过pastecs包中的stat.desc()函数计算描述性统计量\n",
    "# install.packages(\"pastecs\")\n",
    "library(pastecs)\n",
    "myvars <- c(\"mpg\", \"hp\", \"wt\")\n",
    "stat.desc(mtcars[myvars])"
   ]
  },
  {
   "cell_type": "code",
   "execution_count": 8,
   "id": "cad39bb1",
   "metadata": {
    "ExecuteTime": {
     "end_time": "2022-05-02T09:11:48.837609Z",
     "start_time": "2022-05-02T09:11:48.801Z"
    }
   },
   "outputs": [
    {
     "data": {
      "text/html": [
       "<table class=\"dataframe\">\n",
       "<caption>A psych: 3 × 13</caption>\n",
       "<thead>\n",
       "\t<tr><th></th><th scope=col>vars</th><th scope=col>n</th><th scope=col>mean</th><th scope=col>sd</th><th scope=col>median</th><th scope=col>trimmed</th><th scope=col>mad</th><th scope=col>min</th><th scope=col>max</th><th scope=col>range</th><th scope=col>skew</th><th scope=col>kurtosis</th><th scope=col>se</th></tr>\n",
       "\t<tr><th></th><th scope=col>&lt;int&gt;</th><th scope=col>&lt;dbl&gt;</th><th scope=col>&lt;dbl&gt;</th><th scope=col>&lt;dbl&gt;</th><th scope=col>&lt;dbl&gt;</th><th scope=col>&lt;dbl&gt;</th><th scope=col>&lt;dbl&gt;</th><th scope=col>&lt;dbl&gt;</th><th scope=col>&lt;dbl&gt;</th><th scope=col>&lt;dbl&gt;</th><th scope=col>&lt;dbl&gt;</th><th scope=col>&lt;dbl&gt;</th><th scope=col>&lt;dbl&gt;</th></tr>\n",
       "</thead>\n",
       "<tbody>\n",
       "\t<tr><th scope=row>mpg</th><td>1</td><td>32</td><td> 20.09062</td><td> 6.0269481</td><td> 19.200</td><td> 19.696154</td><td> 5.4114900</td><td>10.400</td><td> 33.900</td><td> 23.500</td><td>0.6106550</td><td>-0.37276603</td><td> 1.0654240</td></tr>\n",
       "\t<tr><th scope=row>hp</th><td>2</td><td>32</td><td>146.68750</td><td>68.5628685</td><td>123.000</td><td>141.192308</td><td>77.0952000</td><td>52.000</td><td>335.000</td><td>283.000</td><td>0.7260237</td><td>-0.13555112</td><td>12.1203173</td></tr>\n",
       "\t<tr><th scope=row>wt</th><td>3</td><td>32</td><td>  3.21725</td><td> 0.9784574</td><td>  3.325</td><td>  3.152692</td><td> 0.7672455</td><td> 1.513</td><td>  5.424</td><td>  3.911</td><td>0.4231465</td><td>-0.02271075</td><td> 0.1729685</td></tr>\n",
       "</tbody>\n",
       "</table>\n"
      ],
      "text/latex": [
       "A psych: 3 × 13\n",
       "\\begin{tabular}{r|lllllllllllll}\n",
       "  & vars & n & mean & sd & median & trimmed & mad & min & max & range & skew & kurtosis & se\\\\\n",
       "  & <int> & <dbl> & <dbl> & <dbl> & <dbl> & <dbl> & <dbl> & <dbl> & <dbl> & <dbl> & <dbl> & <dbl> & <dbl>\\\\\n",
       "\\hline\n",
       "\tmpg & 1 & 32 &  20.09062 &  6.0269481 &  19.200 &  19.696154 &  5.4114900 & 10.400 &  33.900 &  23.500 & 0.6106550 & -0.37276603 &  1.0654240\\\\\n",
       "\thp & 2 & 32 & 146.68750 & 68.5628685 & 123.000 & 141.192308 & 77.0952000 & 52.000 & 335.000 & 283.000 & 0.7260237 & -0.13555112 & 12.1203173\\\\\n",
       "\twt & 3 & 32 &   3.21725 &  0.9784574 &   3.325 &   3.152692 &  0.7672455 &  1.513 &   5.424 &   3.911 & 0.4231465 & -0.02271075 &  0.1729685\\\\\n",
       "\\end{tabular}\n"
      ],
      "text/markdown": [
       "\n",
       "A psych: 3 × 13\n",
       "\n",
       "| <!--/--> | vars &lt;int&gt; | n &lt;dbl&gt; | mean &lt;dbl&gt; | sd &lt;dbl&gt; | median &lt;dbl&gt; | trimmed &lt;dbl&gt; | mad &lt;dbl&gt; | min &lt;dbl&gt; | max &lt;dbl&gt; | range &lt;dbl&gt; | skew &lt;dbl&gt; | kurtosis &lt;dbl&gt; | se &lt;dbl&gt; |\n",
       "|---|---|---|---|---|---|---|---|---|---|---|---|---|---|\n",
       "| mpg | 1 | 32 |  20.09062 |  6.0269481 |  19.200 |  19.696154 |  5.4114900 | 10.400 |  33.900 |  23.500 | 0.6106550 | -0.37276603 |  1.0654240 |\n",
       "| hp | 2 | 32 | 146.68750 | 68.5628685 | 123.000 | 141.192308 | 77.0952000 | 52.000 | 335.000 | 283.000 | 0.7260237 | -0.13555112 | 12.1203173 |\n",
       "| wt | 3 | 32 |   3.21725 |  0.9784574 |   3.325 |   3.152692 |  0.7672455 |  1.513 |   5.424 |   3.911 | 0.4231465 | -0.02271075 |  0.1729685 |\n",
       "\n"
      ],
      "text/plain": [
       "    vars n  mean      sd         median  trimmed    mad        min    max    \n",
       "mpg 1    32  20.09062  6.0269481  19.200  19.696154  5.4114900 10.400  33.900\n",
       "hp  2    32 146.68750 68.5628685 123.000 141.192308 77.0952000 52.000 335.000\n",
       "wt  3    32   3.21725  0.9784574   3.325   3.152692  0.7672455  1.513   5.424\n",
       "    range   skew      kurtosis    se        \n",
       "mpg  23.500 0.6106550 -0.37276603  1.0654240\n",
       "hp  283.000 0.7260237 -0.13555112 12.1203173\n",
       "wt    3.911 0.4231465 -0.02271075  0.1729685"
      ]
     },
     "metadata": {},
     "output_type": "display_data"
    }
   ],
   "source": [
    "# describe()的函数，它可以计算非缺失值的数量、平均数、标准差、中位数、截尾均值、绝对中位差、最小值、最大值、值域、偏度、峰度和平均\n",
    "# 值的标准误。\n",
    "# 7-5 通过psych包中的describe()计算描述性统计量\n",
    "library(psych)\n",
    "myvars <- c(\"mpg\", \"hp\", \"wt\")\n",
    "describe(mtcars[myvars]) "
   ]
  },
  {
   "cell_type": "code",
   "execution_count": 10,
   "id": "0e90c9ab",
   "metadata": {
    "ExecuteTime": {
     "end_time": "2022-05-02T09:12:48.142839Z",
     "start_time": "2022-05-02T09:12:48.100Z"
    }
   },
   "outputs": [
    {
     "data": {
      "text/html": [
       "<table class=\"dataframe\">\n",
       "<caption>A data.frame: 2 × 4</caption>\n",
       "<thead>\n",
       "\t<tr><th scope=col>am</th><th scope=col>mpg</th><th scope=col>hp</th><th scope=col>wt</th></tr>\n",
       "\t<tr><th scope=col>&lt;dbl&gt;</th><th scope=col>&lt;dbl&gt;</th><th scope=col>&lt;dbl&gt;</th><th scope=col>&lt;dbl&gt;</th></tr>\n",
       "</thead>\n",
       "<tbody>\n",
       "\t<tr><td>0</td><td>17.14737</td><td>160.2632</td><td>3.768895</td></tr>\n",
       "\t<tr><td>1</td><td>24.39231</td><td>126.8462</td><td>2.411000</td></tr>\n",
       "</tbody>\n",
       "</table>\n"
      ],
      "text/latex": [
       "A data.frame: 2 × 4\n",
       "\\begin{tabular}{llll}\n",
       " am & mpg & hp & wt\\\\\n",
       " <dbl> & <dbl> & <dbl> & <dbl>\\\\\n",
       "\\hline\n",
       "\t 0 & 17.14737 & 160.2632 & 3.768895\\\\\n",
       "\t 1 & 24.39231 & 126.8462 & 2.411000\\\\\n",
       "\\end{tabular}\n"
      ],
      "text/markdown": [
       "\n",
       "A data.frame: 2 × 4\n",
       "\n",
       "| am &lt;dbl&gt; | mpg &lt;dbl&gt; | hp &lt;dbl&gt; | wt &lt;dbl&gt; |\n",
       "|---|---|---|---|\n",
       "| 0 | 17.14737 | 160.2632 | 3.768895 |\n",
       "| 1 | 24.39231 | 126.8462 | 2.411000 |\n",
       "\n"
      ],
      "text/plain": [
       "  am mpg      hp       wt      \n",
       "1 0  17.14737 160.2632 3.768895\n",
       "2 1  24.39231 126.8462 2.411000"
      ]
     },
     "metadata": {},
     "output_type": "display_data"
    },
    {
     "data": {
      "text/html": [
       "<table class=\"dataframe\">\n",
       "<caption>A data.frame: 2 × 4</caption>\n",
       "<thead>\n",
       "\t<tr><th scope=col>am</th><th scope=col>mpg</th><th scope=col>hp</th><th scope=col>wt</th></tr>\n",
       "\t<tr><th scope=col>&lt;dbl&gt;</th><th scope=col>&lt;dbl&gt;</th><th scope=col>&lt;dbl&gt;</th><th scope=col>&lt;dbl&gt;</th></tr>\n",
       "</thead>\n",
       "<tbody>\n",
       "\t<tr><td>0</td><td>3.833966</td><td>53.90820</td><td>0.7774001</td></tr>\n",
       "\t<tr><td>1</td><td>6.166504</td><td>84.06232</td><td>0.6169816</td></tr>\n",
       "</tbody>\n",
       "</table>\n"
      ],
      "text/latex": [
       "A data.frame: 2 × 4\n",
       "\\begin{tabular}{llll}\n",
       " am & mpg & hp & wt\\\\\n",
       " <dbl> & <dbl> & <dbl> & <dbl>\\\\\n",
       "\\hline\n",
       "\t 0 & 3.833966 & 53.90820 & 0.7774001\\\\\n",
       "\t 1 & 6.166504 & 84.06232 & 0.6169816\\\\\n",
       "\\end{tabular}\n"
      ],
      "text/markdown": [
       "\n",
       "A data.frame: 2 × 4\n",
       "\n",
       "| am &lt;dbl&gt; | mpg &lt;dbl&gt; | hp &lt;dbl&gt; | wt &lt;dbl&gt; |\n",
       "|---|---|---|---|\n",
       "| 0 | 3.833966 | 53.90820 | 0.7774001 |\n",
       "| 1 | 6.166504 | 84.06232 | 0.6169816 |\n",
       "\n"
      ],
      "text/plain": [
       "  am mpg      hp       wt       \n",
       "1 0  3.833966 53.90820 0.7774001\n",
       "2 1  6.166504 84.06232 0.6169816"
      ]
     },
     "metadata": {},
     "output_type": "display_data"
    }
   ],
   "source": [
    "# 7.1.3 分组计算描述性统计量\n",
    "# 7-6 使用aggregate()分组获取描述性统计量\n",
    "myvars <- c(\"mpg\", \"hp\", \"wt\") \n",
    "aggregate(mtcars[myvars], by=list(am=mtcars$am), mean)\n",
    "aggregate(mtcars[myvars], by=list(am=mtcars$am), sd)"
   ]
  },
  {
   "cell_type": "code",
   "execution_count": 11,
   "id": "18802b41",
   "metadata": {
    "ExecuteTime": {
     "end_time": "2022-05-02T09:13:38.801768Z",
     "start_time": "2022-05-02T09:13:38.775Z"
    }
   },
   "outputs": [
    {
     "data": {
      "text/plain": [
       "mtcars$am: 0\n",
       "                 mpg           hp         wt\n",
       "n        19.00000000  19.00000000 19.0000000\n",
       "mean     17.14736842 160.26315789  3.7688947\n",
       "stdev     3.83396639  53.90819573  0.7774001\n",
       "skew      0.01395038  -0.01422519  0.9759294\n",
       "kurtosis -0.80317826  -1.20969733  0.1415676\n",
       "------------------------------------------------------------ \n",
       "mtcars$am: 1\n",
       "                 mpg          hp         wt\n",
       "n        13.00000000  13.0000000 13.0000000\n",
       "mean     24.39230769 126.8461538  2.4110000\n",
       "stdev     6.16650381  84.0623243  0.6169816\n",
       "skew      0.05256118   1.3598859  0.2103128\n",
       "kurtosis -1.45535200   0.5634635 -1.1737358"
      ]
     },
     "metadata": {},
     "output_type": "display_data"
    }
   ],
   "source": [
    "# 7-7 使用by()分组计算描述性统计量\n",
    "dstats <- function(x)sapply(x, mystats)\n",
    "myvars <- c(\"mpg\", \"hp\", \"wt\")\n",
    "by(mtcars[myvars], mtcars$am, dstats)"
   ]
  },
  {
   "cell_type": "code",
   "execution_count": 14,
   "id": "d1a8cf9a",
   "metadata": {
    "ExecuteTime": {
     "end_time": "2022-05-02T09:14:40.345441Z",
     "start_time": "2022-05-02T09:14:39.973Z"
    }
   },
   "outputs": [
    {
     "data": {
      "text/html": [
       "<table class=\"dataframe\">\n",
       "<caption>A data.frame: 2 × 16</caption>\n",
       "<thead>\n",
       "\t<tr><th></th><th scope=col>am</th><th scope=col>mpg.n</th><th scope=col>mpg.mean</th><th scope=col>mpg.stdev</th><th scope=col>mpg.skew</th><th scope=col>mpg.kurtosis</th><th scope=col>hp.n</th><th scope=col>hp.mean</th><th scope=col>hp.stdev</th><th scope=col>hp.skew</th><th scope=col>hp.kurtosis</th><th scope=col>wt.n</th><th scope=col>wt.mean</th><th scope=col>wt.stdev</th><th scope=col>wt.skew</th><th scope=col>wt.kurtosis</th></tr>\n",
       "\t<tr><th></th><th scope=col>&lt;dbl&gt;</th><th scope=col>&lt;dbl&gt;</th><th scope=col>&lt;dbl&gt;</th><th scope=col>&lt;dbl&gt;</th><th scope=col>&lt;dbl&gt;</th><th scope=col>&lt;dbl&gt;</th><th scope=col>&lt;dbl&gt;</th><th scope=col>&lt;dbl&gt;</th><th scope=col>&lt;dbl&gt;</th><th scope=col>&lt;dbl&gt;</th><th scope=col>&lt;dbl&gt;</th><th scope=col>&lt;dbl&gt;</th><th scope=col>&lt;dbl&gt;</th><th scope=col>&lt;dbl&gt;</th><th scope=col>&lt;dbl&gt;</th><th scope=col>&lt;dbl&gt;</th></tr>\n",
       "</thead>\n",
       "<tbody>\n",
       "\t<tr><th scope=row>1</th><td>0</td><td>19</td><td>17.14737</td><td>3.833966</td><td>0.01395038</td><td>-0.8031783</td><td>19</td><td>160.2632</td><td>53.90820</td><td>-0.01422519</td><td>-1.2096973</td><td>19</td><td>3.768895</td><td>0.7774001</td><td>0.9759294</td><td> 0.1415676</td></tr>\n",
       "\t<tr><th scope=row>2</th><td>1</td><td>13</td><td>24.39231</td><td>6.166504</td><td>0.05256118</td><td>-1.4553520</td><td>13</td><td>126.8462</td><td>84.06232</td><td> 1.35988586</td><td> 0.5634635</td><td>13</td><td>2.411000</td><td>0.6169816</td><td>0.2103128</td><td>-1.1737358</td></tr>\n",
       "</tbody>\n",
       "</table>\n"
      ],
      "text/latex": [
       "A data.frame: 2 × 16\n",
       "\\begin{tabular}{r|llllllllllllllll}\n",
       "  & am & mpg.n & mpg.mean & mpg.stdev & mpg.skew & mpg.kurtosis & hp.n & hp.mean & hp.stdev & hp.skew & hp.kurtosis & wt.n & wt.mean & wt.stdev & wt.skew & wt.kurtosis\\\\\n",
       "  & <dbl> & <dbl> & <dbl> & <dbl> & <dbl> & <dbl> & <dbl> & <dbl> & <dbl> & <dbl> & <dbl> & <dbl> & <dbl> & <dbl> & <dbl> & <dbl>\\\\\n",
       "\\hline\n",
       "\t1 & 0 & 19 & 17.14737 & 3.833966 & 0.01395038 & -0.8031783 & 19 & 160.2632 & 53.90820 & -0.01422519 & -1.2096973 & 19 & 3.768895 & 0.7774001 & 0.9759294 &  0.1415676\\\\\n",
       "\t2 & 1 & 13 & 24.39231 & 6.166504 & 0.05256118 & -1.4553520 & 13 & 126.8462 & 84.06232 &  1.35988586 &  0.5634635 & 13 & 2.411000 & 0.6169816 & 0.2103128 & -1.1737358\\\\\n",
       "\\end{tabular}\n"
      ],
      "text/markdown": [
       "\n",
       "A data.frame: 2 × 16\n",
       "\n",
       "| <!--/--> | am &lt;dbl&gt; | mpg.n &lt;dbl&gt; | mpg.mean &lt;dbl&gt; | mpg.stdev &lt;dbl&gt; | mpg.skew &lt;dbl&gt; | mpg.kurtosis &lt;dbl&gt; | hp.n &lt;dbl&gt; | hp.mean &lt;dbl&gt; | hp.stdev &lt;dbl&gt; | hp.skew &lt;dbl&gt; | hp.kurtosis &lt;dbl&gt; | wt.n &lt;dbl&gt; | wt.mean &lt;dbl&gt; | wt.stdev &lt;dbl&gt; | wt.skew &lt;dbl&gt; | wt.kurtosis &lt;dbl&gt; |\n",
       "|---|---|---|---|---|---|---|---|---|---|---|---|---|---|---|---|---|\n",
       "| 1 | 0 | 19 | 17.14737 | 3.833966 | 0.01395038 | -0.8031783 | 19 | 160.2632 | 53.90820 | -0.01422519 | -1.2096973 | 19 | 3.768895 | 0.7774001 | 0.9759294 |  0.1415676 |\n",
       "| 2 | 1 | 13 | 24.39231 | 6.166504 | 0.05256118 | -1.4553520 | 13 | 126.8462 | 84.06232 |  1.35988586 |  0.5634635 | 13 | 2.411000 | 0.6169816 | 0.2103128 | -1.1737358 |\n",
       "\n"
      ],
      "text/plain": [
       "  am mpg.n mpg.mean mpg.stdev mpg.skew   mpg.kurtosis hp.n hp.mean  hp.stdev\n",
       "1 0  19    17.14737 3.833966  0.01395038 -0.8031783   19   160.2632 53.90820\n",
       "2 1  13    24.39231 6.166504  0.05256118 -1.4553520   13   126.8462 84.06232\n",
       "  hp.skew     hp.kurtosis wt.n wt.mean  wt.stdev  wt.skew   wt.kurtosis\n",
       "1 -0.01422519 -1.2096973  19   3.768895 0.7774001 0.9759294  0.1415676 \n",
       "2  1.35988586  0.5634635  13   2.411000 0.6169816 0.2103128 -1.1737358 "
      ]
     },
     "metadata": {},
     "output_type": "display_data"
    }
   ],
   "source": [
    "# 7.1.4 分组计算的扩展\n",
    "# 7-8 使用doBy包中的summaryBy()分组计算概述统计量\n",
    "# install.packages(\"doBy\")\n",
    "library(doBy)\n",
    "summaryBy(mpg+hp+wt~am, data=mtcars, FUN=mystats)"
   ]
  },
  {
   "cell_type": "code",
   "execution_count": 15,
   "id": "16add90f",
   "metadata": {
    "ExecuteTime": {
     "end_time": "2022-05-02T09:15:05.770976Z",
     "start_time": "2022-05-02T09:15:05.734Z"
    }
   },
   "outputs": [
    {
     "data": {
      "text/plain": [
       "\n",
       " Descriptive statistics by group \n",
       "am: 0\n",
       "    vars  n   mean    sd median trimmed   mad   min    max  range  skew\n",
       "mpg    1 19  17.15  3.83  17.30   17.12  3.11 10.40  24.40  14.00  0.01\n",
       "hp     2 19 160.26 53.91 175.00  161.06 77.10 62.00 245.00 183.00 -0.01\n",
       "wt     3 19   3.77  0.78   3.52    3.75  0.45  2.46   5.42   2.96  0.98\n",
       "    kurtosis    se\n",
       "mpg    -0.80  0.88\n",
       "hp     -1.21 12.37\n",
       "wt      0.14  0.18\n",
       "------------------------------------------------------------ \n",
       "am: 1\n",
       "    vars  n   mean    sd median trimmed   mad   min    max  range skew kurtosis\n",
       "mpg    1 13  24.39  6.17  22.80   24.38  6.67 15.00  33.90  18.90 0.05    -1.46\n",
       "hp     2 13 126.85 84.06 109.00  114.73 63.75 52.00 335.00 283.00 1.36     0.56\n",
       "wt     3 13   2.41  0.62   2.32    2.39  0.68  1.51   3.57   2.06 0.21    -1.17\n",
       "       se\n",
       "mpg  1.71\n",
       "hp  23.31\n",
       "wt   0.17"
      ]
     },
     "metadata": {},
     "output_type": "display_data"
    }
   ],
   "source": [
    "# 7-9 使用psych包中的describeBy()分组计算概述统计量\n",
    "library(psych)\n",
    "myvars <- c(\"mpg\", \"hp\", \"wt\")\n",
    "describeBy(mtcars[myvars], list(am=mtcars$am))"
   ]
  },
  {
   "cell_type": "code",
   "execution_count": 25,
   "id": "7ab67536",
   "metadata": {
    "ExecuteTime": {
     "end_time": "2022-05-06T09:28:37.117651Z",
     "start_time": "2022-05-06T09:28:37.093Z"
    }
   },
   "outputs": [
    {
     "name": "stdout",
     "output_type": "stream",
     "text": [
      " chr [1:3] \"mpg\" \"hp\" \"wt\"\n"
     ]
    },
    {
     "data": {
      "text/html": [
       "<style>\n",
       ".list-inline {list-style: none; margin:0; padding: 0}\n",
       ".list-inline>li {display: inline-block}\n",
       ".list-inline>li:not(:last-child)::after {content: \"\\00b7\"; padding: 0 .5ex}\n",
       "</style>\n",
       "<ol class=list-inline><li>'mpg'</li><li>'hp'</li><li>'wt'</li></ol>\n"
      ],
      "text/latex": [
       "\\begin{enumerate*}\n",
       "\\item 'mpg'\n",
       "\\item 'hp'\n",
       "\\item 'wt'\n",
       "\\end{enumerate*}\n"
      ],
      "text/markdown": [
       "1. 'mpg'\n",
       "2. 'hp'\n",
       "3. 'wt'\n",
       "\n",
       "\n"
      ],
      "text/plain": [
       "[1] \"mpg\" \"hp\"  \"wt\" "
      ]
     },
     "metadata": {},
     "output_type": "display_data"
    }
   ],
   "source": [
    "str(myvars)\n",
    "head(myvars)\n"
   ]
  },
  {
   "cell_type": "code",
   "execution_count": 30,
   "id": "2397371c",
   "metadata": {
    "ExecuteTime": {
     "end_time": "2022-05-06T09:31:13.405487Z",
     "start_time": "2022-05-06T09:31:13.375Z"
    }
   },
   "outputs": [
    {
     "data": {
      "text/html": [
       "<table class=\"dataframe\">\n",
       "<caption>A data.frame: 6 × 5</caption>\n",
       "<thead>\n",
       "\t<tr><th></th><th scope=col>ID</th><th scope=col>Treatment</th><th scope=col>Sex</th><th scope=col>Age</th><th scope=col>Improved</th></tr>\n",
       "\t<tr><th></th><th scope=col>&lt;int&gt;</th><th scope=col>&lt;fct&gt;</th><th scope=col>&lt;fct&gt;</th><th scope=col>&lt;int&gt;</th><th scope=col>&lt;ord&gt;</th></tr>\n",
       "</thead>\n",
       "<tbody>\n",
       "\t<tr><th scope=row>1</th><td>57</td><td>Treated</td><td>Male</td><td>27</td><td>Some  </td></tr>\n",
       "\t<tr><th scope=row>2</th><td>46</td><td>Treated</td><td>Male</td><td>29</td><td>None  </td></tr>\n",
       "\t<tr><th scope=row>3</th><td>77</td><td>Treated</td><td>Male</td><td>30</td><td>None  </td></tr>\n",
       "\t<tr><th scope=row>4</th><td>17</td><td>Treated</td><td>Male</td><td>32</td><td>Marked</td></tr>\n",
       "\t<tr><th scope=row>5</th><td>36</td><td>Treated</td><td>Male</td><td>46</td><td>Marked</td></tr>\n",
       "\t<tr><th scope=row>6</th><td>23</td><td>Treated</td><td>Male</td><td>58</td><td>Marked</td></tr>\n",
       "</tbody>\n",
       "</table>\n"
      ],
      "text/latex": [
       "A data.frame: 6 × 5\n",
       "\\begin{tabular}{r|lllll}\n",
       "  & ID & Treatment & Sex & Age & Improved\\\\\n",
       "  & <int> & <fct> & <fct> & <int> & <ord>\\\\\n",
       "\\hline\n",
       "\t1 & 57 & Treated & Male & 27 & Some  \\\\\n",
       "\t2 & 46 & Treated & Male & 29 & None  \\\\\n",
       "\t3 & 77 & Treated & Male & 30 & None  \\\\\n",
       "\t4 & 17 & Treated & Male & 32 & Marked\\\\\n",
       "\t5 & 36 & Treated & Male & 46 & Marked\\\\\n",
       "\t6 & 23 & Treated & Male & 58 & Marked\\\\\n",
       "\\end{tabular}\n"
      ],
      "text/markdown": [
       "\n",
       "A data.frame: 6 × 5\n",
       "\n",
       "| <!--/--> | ID &lt;int&gt; | Treatment &lt;fct&gt; | Sex &lt;fct&gt; | Age &lt;int&gt; | Improved &lt;ord&gt; |\n",
       "|---|---|---|---|---|---|\n",
       "| 1 | 57 | Treated | Male | 27 | Some   |\n",
       "| 2 | 46 | Treated | Male | 29 | None   |\n",
       "| 3 | 77 | Treated | Male | 30 | None   |\n",
       "| 4 | 17 | Treated | Male | 32 | Marked |\n",
       "| 5 | 36 | Treated | Male | 46 | Marked |\n",
       "| 6 | 23 | Treated | Male | 58 | Marked |\n",
       "\n"
      ],
      "text/plain": [
       "  ID Treatment Sex  Age Improved\n",
       "1 57 Treated   Male 27  Some    \n",
       "2 46 Treated   Male 29  None    \n",
       "3 77 Treated   Male 30  None    \n",
       "4 17 Treated   Male 32  Marked  \n",
       "5 36 Treated   Male 46  Marked  \n",
       "6 23 Treated   Male 58  Marked  "
      ]
     },
     "metadata": {},
     "output_type": "display_data"
    }
   ],
   "source": [
    "# 7.2 频数表和列联表\n",
    "# 本节中的数据来自vcd包中的Arthritis数据集。这份数据来自Kock & Edward （1988），表\n",
    "# 示了一项风湿性关节炎新疗法的双盲临床实验的结果。前几个观测是这样的：\n",
    "library(vcd)\n",
    "head(Arthritis)"
   ]
  },
  {
   "cell_type": "code",
   "execution_count": 31,
   "id": "19f64407",
   "metadata": {
    "ExecuteTime": {
     "end_time": "2022-05-06T09:31:13.969106Z",
     "start_time": "2022-05-06T09:31:13.946Z"
    }
   },
   "outputs": [
    {
     "name": "stdout",
     "output_type": "stream",
     "text": [
      "'data.frame':\t84 obs. of  5 variables:\n",
      " $ ID       : int  57 46 77 17 36 23 75 39 33 55 ...\n",
      " $ Treatment: Factor w/ 2 levels \"Placebo\",\"Treated\": 2 2 2 2 2 2 2 2 2 2 ...\n",
      " $ Sex      : Factor w/ 2 levels \"Female\",\"Male\": 2 2 2 2 2 2 2 2 2 2 ...\n",
      " $ Age      : int  27 29 30 32 46 58 59 59 63 63 ...\n",
      " $ Improved : Ord.factor w/ 3 levels \"None\"<\"Some\"<..: 2 1 1 3 3 3 1 3 1 1 ...\n"
     ]
    }
   ],
   "source": [
    "str(Arthritis)"
   ]
  },
  {
   "cell_type": "code",
   "execution_count": 33,
   "id": "aba833ab",
   "metadata": {
    "ExecuteTime": {
     "end_time": "2022-05-06T09:31:21.786654Z",
     "start_time": "2022-05-06T09:31:21.765Z"
    }
   },
   "outputs": [
    {
     "data": {
      "text/html": [
       "<style>\n",
       ".list-inline {list-style: none; margin:0; padding: 0}\n",
       ".list-inline>li {display: inline-block}\n",
       ".list-inline>li:not(:last-child)::after {content: \"\\00b7\"; padding: 0 .5ex}\n",
       "</style>\n",
       "<ol class=list-inline><li>84</li><li>5</li></ol>\n"
      ],
      "text/latex": [
       "\\begin{enumerate*}\n",
       "\\item 84\n",
       "\\item 5\n",
       "\\end{enumerate*}\n"
      ],
      "text/markdown": [
       "1. 84\n",
       "2. 5\n",
       "\n",
       "\n"
      ],
      "text/plain": [
       "[1] 84  5"
      ]
     },
     "metadata": {},
     "output_type": "display_data"
    }
   ],
   "source": [
    "dim(Arthritis)"
   ]
  },
  {
   "cell_type": "code",
   "execution_count": 34,
   "id": "4bf6351c",
   "metadata": {
    "ExecuteTime": {
     "end_time": "2022-05-06T09:32:02.925868Z",
     "start_time": "2022-05-06T09:32:02.909Z"
    }
   },
   "outputs": [],
   "source": [
    "# 7.2.1 生成频数表"
   ]
  },
  {
   "attachments": {
    "image.png": {
     "image/png": "[encoded data removed]"
    }
   },
   "cell_type": "markdown",
   "id": "c5663f59",
   "metadata": {},
   "source": [
    "![image.png](attachment:image.png)"
   ]
  },
  {
   "attachments": {
    "image.png": {
     "image/png": "[encoded data removed]"
    }
   },
   "cell_type": "markdown",
   "id": "b1550c15",
   "metadata": {},
   "source": [
    "![image.png](attachment:image.png)"
   ]
  },
  {
   "cell_type": "code",
   "execution_count": 35,
   "id": "e1b00ff1",
   "metadata": {
    "ExecuteTime": {
     "end_time": "2022-05-06T09:32:45.251955Z",
     "start_time": "2022-05-06T09:32:45.229Z"
    }
   },
   "outputs": [
    {
     "data": {
      "text/plain": [
       "Improved\n",
       "  None   Some Marked \n",
       "    42     14     28 "
      ]
     },
     "metadata": {},
     "output_type": "display_data"
    }
   ],
   "source": [
    "# 1. 一维列联表\n",
    "# 使用table()函数生成简单的频数统计表。示例如下:\n",
    "mytable <- with(Arthritis, table(Improved))\n",
    "mytable"
   ]
  },
  {
   "cell_type": "code",
   "execution_count": 36,
   "id": "889eef4c",
   "metadata": {
    "ExecuteTime": {
     "end_time": "2022-05-06T09:34:08.973377Z",
     "start_time": "2022-05-06T09:34:08.953Z"
    }
   },
   "outputs": [
    {
     "data": {
      "text/plain": [
       "Improved\n",
       "     None      Some    Marked \n",
       "0.5000000 0.1666667 0.3333333 "
      ]
     },
     "metadata": {},
     "output_type": "display_data"
    }
   ],
   "source": [
    "# 可以用prop.table()将这些频数转化为比例值：\n",
    "prop.table(mytable)"
   ]
  },
  {
   "cell_type": "code",
   "execution_count": 37,
   "id": "6b8a5bcb",
   "metadata": {
    "ExecuteTime": {
     "end_time": "2022-05-06T09:34:22.283720Z",
     "start_time": "2022-05-06T09:34:22.263Z"
    }
   },
   "outputs": [
    {
     "data": {
      "text/plain": [
       "Improved\n",
       "    None     Some   Marked \n",
       "50.00000 16.66667 33.33333 "
      ]
     },
     "metadata": {},
     "output_type": "display_data"
    }
   ],
   "source": [
    "# 使用prop.table()*100转化为百分比：\n",
    "prop.table(mytable)*100"
   ]
  },
  {
   "cell_type": "code",
   "execution_count": 38,
   "id": "dc741d9f",
   "metadata": {
    "ExecuteTime": {
     "end_time": "2022-05-06T09:38:04.689380Z",
     "start_time": "2022-05-06T09:38:04.659Z"
    }
   },
   "outputs": [
    {
     "data": {
      "text/plain": [
       "         Improved\n",
       "Treatment None Some Marked\n",
       "  Placebo   29    7      7\n",
       "  Treated   13    7     21"
      ]
     },
     "metadata": {},
     "output_type": "display_data"
    }
   ],
   "source": [
    "# 2. 二维列联表\n",
    "# 对于二维列联表，table()函数的使用格式为：其中的A是行变量，B是列变量。\n",
    "# xtabs()函数还可使用公式风格的输入创建列联表，格式为：\n",
    "# mytable <- xtabs(~ A + B, data=mydata)  其中的mydata是一个矩阵或数据框\n",
    "# 要进行交叉分类的变量应出现在公式的右侧（即~符号的右方），以+作为分隔符\n",
    "mytable <- xtabs(~ Treatment+Improved, data=Arthritis)\n",
    "mytable "
   ]
  },
  {
   "cell_type": "code",
   "execution_count": 39,
   "id": "c6c99636",
   "metadata": {
    "ExecuteTime": {
     "end_time": "2022-05-06T09:38:56.224498Z",
     "start_time": "2022-05-06T09:38:56.203Z"
    }
   },
   "outputs": [
    {
     "data": {
      "text/plain": [
       "Treatment\n",
       "Placebo Treated \n",
       "     43      41 "
      ]
     },
     "metadata": {},
     "output_type": "display_data"
    }
   ],
   "source": [
    "# 以使用margin.table()和prop.table()函数分别生成边际频数和比例。行和与行比例可以这样计算:\n",
    "margin.table(mytable, 1)# 行和"
   ]
  },
  {
   "cell_type": "code",
   "execution_count": 40,
   "id": "f91295ad",
   "metadata": {
    "ExecuteTime": {
     "end_time": "2022-05-06T09:39:10.532248Z",
     "start_time": "2022-05-06T09:39:10.511Z"
    }
   },
   "outputs": [
    {
     "data": {
      "text/plain": [
       "         Improved\n",
       "Treatment      None      Some    Marked\n",
       "  Placebo 0.6744186 0.1627907 0.1627907\n",
       "  Treated 0.3170732 0.1707317 0.5121951"
      ]
     },
     "metadata": {},
     "output_type": "display_data"
    }
   ],
   "source": [
    "prop.table(mytable, 1)# 行比例\n",
    "# 下标1指代table()语句中的第一个变量。观察表格可以发现，与接受安慰剂的个体中有显\n",
    "# 著改善的16%相比，接受治疗的个体中的51%的个体病情有了显著的改善。"
   ]
  },
  {
   "cell_type": "code",
   "execution_count": 41,
   "id": "2ab98de8",
   "metadata": {
    "ExecuteTime": {
     "end_time": "2022-05-06T09:40:09.175338Z",
     "start_time": "2022-05-06T09:40:09.154Z"
    }
   },
   "outputs": [
    {
     "data": {
      "text/plain": [
       "Improved\n",
       "  None   Some Marked \n",
       "    42     14     28 "
      ]
     },
     "metadata": {},
     "output_type": "display_data"
    }
   ],
   "source": [
    "margin.table(mytable, 2)"
   ]
  },
  {
   "cell_type": "code",
   "execution_count": 42,
   "id": "bac0c6ff",
   "metadata": {
    "ExecuteTime": {
     "end_time": "2022-05-06T09:40:15.835726Z",
     "start_time": "2022-05-06T09:40:15.786Z"
    }
   },
   "outputs": [
    {
     "data": {
      "text/plain": [
       "         Improved\n",
       "Treatment      None      Some    Marked\n",
       "  Placebo 0.6904762 0.5000000 0.2500000\n",
       "  Treated 0.3095238 0.5000000 0.7500000"
      ]
     },
     "metadata": {},
     "output_type": "display_data"
    }
   ],
   "source": [
    " prop.table(mytable, 2)# 这里的下标2指代按照列进行求边际"
   ]
  },
  {
   "cell_type": "code",
   "execution_count": 44,
   "id": "9157ffeb",
   "metadata": {
    "ExecuteTime": {
     "end_time": "2022-05-06T09:41:53.185993Z",
     "start_time": "2022-05-06T09:41:53.152Z"
    }
   },
   "outputs": [
    {
     "data": {
      "text/html": [
       "<table class=\"dataframe\">\n",
       "<caption>A table: 3 × 4 of type dbl</caption>\n",
       "<thead>\n",
       "\t<tr><th></th><th scope=col>None</th><th scope=col>Some</th><th scope=col>Marked</th><th scope=col>Sum</th></tr>\n",
       "</thead>\n",
       "<tbody>\n",
       "\t<tr><th scope=row>Placebo</th><td>29</td><td> 7</td><td> 7</td><td>43</td></tr>\n",
       "\t<tr><th scope=row>Treated</th><td>13</td><td> 7</td><td>21</td><td>41</td></tr>\n",
       "\t<tr><th scope=row>Sum</th><td>42</td><td>14</td><td>28</td><td>84</td></tr>\n",
       "</tbody>\n",
       "</table>\n"
      ],
      "text/latex": [
       "A table: 3 × 4 of type dbl\n",
       "\\begin{tabular}{r|llll}\n",
       "  & None & Some & Marked & Sum\\\\\n",
       "\\hline\n",
       "\tPlacebo & 29 &  7 &  7 & 43\\\\\n",
       "\tTreated & 13 &  7 & 21 & 41\\\\\n",
       "\tSum & 42 & 14 & 28 & 84\\\\\n",
       "\\end{tabular}\n"
      ],
      "text/markdown": [
       "\n",
       "A table: 3 × 4 of type dbl\n",
       "\n",
       "| <!--/--> | None | Some | Marked | Sum |\n",
       "|---|---|---|---|---|\n",
       "| Placebo | 29 |  7 |  7 | 43 |\n",
       "| Treated | 13 |  7 | 21 | 41 |\n",
       "| Sum | 42 | 14 | 28 | 84 |\n",
       "\n"
      ],
      "text/plain": [
       "         Improved\n",
       "Treatment None Some Marked Sum\n",
       "  Placebo 29    7    7     43 \n",
       "  Treated 13    7   21     41 \n",
       "  Sum     42   14   28     84 "
      ]
     },
     "metadata": {},
     "output_type": "display_data"
    }
   ],
   "source": [
    "# 以使用addmargins()函数为这些表格添加边际和\n",
    "addmargins(mytable)"
   ]
  },
  {
   "cell_type": "code",
   "execution_count": 45,
   "id": "ef10f63c",
   "metadata": {
    "ExecuteTime": {
     "end_time": "2022-05-06T09:42:04.343697Z",
     "start_time": "2022-05-06T09:42:04.318Z"
    }
   },
   "outputs": [
    {
     "data": {
      "text/html": [
       "<table class=\"dataframe\">\n",
       "<caption>A table: 3 × 4 of type dbl</caption>\n",
       "<thead>\n",
       "\t<tr><th></th><th scope=col>None</th><th scope=col>Some</th><th scope=col>Marked</th><th scope=col>Sum</th></tr>\n",
       "</thead>\n",
       "<tbody>\n",
       "\t<tr><th scope=row>Placebo</th><td>0.3452381</td><td>0.08333333</td><td>0.08333333</td><td>0.5119048</td></tr>\n",
       "\t<tr><th scope=row>Treated</th><td>0.1547619</td><td>0.08333333</td><td>0.25000000</td><td>0.4880952</td></tr>\n",
       "\t<tr><th scope=row>Sum</th><td>0.5000000</td><td>0.16666667</td><td>0.33333333</td><td>1.0000000</td></tr>\n",
       "</tbody>\n",
       "</table>\n"
      ],
      "text/latex": [
       "A table: 3 × 4 of type dbl\n",
       "\\begin{tabular}{r|llll}\n",
       "  & None & Some & Marked & Sum\\\\\n",
       "\\hline\n",
       "\tPlacebo & 0.3452381 & 0.08333333 & 0.08333333 & 0.5119048\\\\\n",
       "\tTreated & 0.1547619 & 0.08333333 & 0.25000000 & 0.4880952\\\\\n",
       "\tSum & 0.5000000 & 0.16666667 & 0.33333333 & 1.0000000\\\\\n",
       "\\end{tabular}\n"
      ],
      "text/markdown": [
       "\n",
       "A table: 3 × 4 of type dbl\n",
       "\n",
       "| <!--/--> | None | Some | Marked | Sum |\n",
       "|---|---|---|---|---|\n",
       "| Placebo | 0.3452381 | 0.08333333 | 0.08333333 | 0.5119048 |\n",
       "| Treated | 0.1547619 | 0.08333333 | 0.25000000 | 0.4880952 |\n",
       "| Sum | 0.5000000 | 0.16666667 | 0.33333333 | 1.0000000 |\n",
       "\n"
      ],
      "text/plain": [
       "         Improved\n",
       "Treatment None      Some       Marked     Sum      \n",
       "  Placebo 0.3452381 0.08333333 0.08333333 0.5119048\n",
       "  Treated 0.1547619 0.08333333 0.25000000 0.4880952\n",
       "  Sum     0.5000000 0.16666667 0.33333333 1.0000000"
      ]
     },
     "metadata": {},
     "output_type": "display_data"
    }
   ],
   "source": [
    "addmargins(prop.table(mytable))"
   ]
  },
  {
   "cell_type": "code",
   "execution_count": 46,
   "id": "87c9482a",
   "metadata": {
    "ExecuteTime": {
     "end_time": "2022-05-06T09:42:30.755014Z",
     "start_time": "2022-05-06T09:42:30.730Z"
    }
   },
   "outputs": [
    {
     "data": {
      "text/html": [
       "<table class=\"dataframe\">\n",
       "<caption>A table: 2 × 4 of type dbl</caption>\n",
       "<thead>\n",
       "\t<tr><th></th><th scope=col>None</th><th scope=col>Some</th><th scope=col>Marked</th><th scope=col>Sum</th></tr>\n",
       "</thead>\n",
       "<tbody>\n",
       "\t<tr><th scope=row>Placebo</th><td>0.6744186</td><td>0.1627907</td><td>0.1627907</td><td>1</td></tr>\n",
       "\t<tr><th scope=row>Treated</th><td>0.3170732</td><td>0.1707317</td><td>0.5121951</td><td>1</td></tr>\n",
       "</tbody>\n",
       "</table>\n"
      ],
      "text/latex": [
       "A table: 2 × 4 of type dbl\n",
       "\\begin{tabular}{r|llll}\n",
       "  & None & Some & Marked & Sum\\\\\n",
       "\\hline\n",
       "\tPlacebo & 0.6744186 & 0.1627907 & 0.1627907 & 1\\\\\n",
       "\tTreated & 0.3170732 & 0.1707317 & 0.5121951 & 1\\\\\n",
       "\\end{tabular}\n"
      ],
      "text/markdown": [
       "\n",
       "A table: 2 × 4 of type dbl\n",
       "\n",
       "| <!--/--> | None | Some | Marked | Sum |\n",
       "|---|---|---|---|---|\n",
       "| Placebo | 0.6744186 | 0.1627907 | 0.1627907 | 1 |\n",
       "| Treated | 0.3170732 | 0.1707317 | 0.5121951 | 1 |\n",
       "\n"
      ],
      "text/plain": [
       "         Improved\n",
       "Treatment None      Some      Marked    Sum\n",
       "  Placebo 0.6744186 0.1627907 0.1627907 1  \n",
       "  Treated 0.3170732 0.1707317 0.5121951 1  "
      ]
     },
     "metadata": {},
     "output_type": "display_data"
    }
   ],
   "source": [
    "# 使用addmargins()时，默认行为是为表中所有的变量创建边际和\n",
    " addmargins(prop.table(mytable, 1), 2) # 仅添加了各行的和。"
   ]
  },
  {
   "cell_type": "code",
   "execution_count": 47,
   "id": "64aba7a7",
   "metadata": {
    "ExecuteTime": {
     "end_time": "2022-05-06T09:43:10.908307Z",
     "start_time": "2022-05-06T09:43:10.884Z"
    }
   },
   "outputs": [
    {
     "data": {
      "text/html": [
       "<table class=\"dataframe\">\n",
       "<caption>A table: 3 × 3 of type dbl</caption>\n",
       "<thead>\n",
       "\t<tr><th></th><th scope=col>None</th><th scope=col>Some</th><th scope=col>Marked</th></tr>\n",
       "</thead>\n",
       "<tbody>\n",
       "\t<tr><th scope=row>Placebo</th><td>0.6904762</td><td>0.5</td><td>0.25</td></tr>\n",
       "\t<tr><th scope=row>Treated</th><td>0.3095238</td><td>0.5</td><td>0.75</td></tr>\n",
       "\t<tr><th scope=row>Sum</th><td>1.0000000</td><td>1.0</td><td>1.00</td></tr>\n",
       "</tbody>\n",
       "</table>\n"
      ],
      "text/latex": [
       "A table: 3 × 3 of type dbl\n",
       "\\begin{tabular}{r|lll}\n",
       "  & None & Some & Marked\\\\\n",
       "\\hline\n",
       "\tPlacebo & 0.6904762 & 0.5 & 0.25\\\\\n",
       "\tTreated & 0.3095238 & 0.5 & 0.75\\\\\n",
       "\tSum & 1.0000000 & 1.0 & 1.00\\\\\n",
       "\\end{tabular}\n"
      ],
      "text/markdown": [
       "\n",
       "A table: 3 × 3 of type dbl\n",
       "\n",
       "| <!--/--> | None | Some | Marked |\n",
       "|---|---|---|---|\n",
       "| Placebo | 0.6904762 | 0.5 | 0.25 |\n",
       "| Treated | 0.3095238 | 0.5 | 0.75 |\n",
       "| Sum | 1.0000000 | 1.0 | 1.00 |\n",
       "\n"
      ],
      "text/plain": [
       "         Improved\n",
       "Treatment None      Some Marked\n",
       "  Placebo 0.6904762 0.5  0.25  \n",
       "  Treated 0.3095238 0.5  0.75  \n",
       "  Sum     1.0000000 1.0  1.00  "
      ]
     },
     "metadata": {},
     "output_type": "display_data"
    }
   ],
   "source": [
    " addmargins(prop.table(mytable, 2), 1) # 添加了各列的和"
   ]
  },
  {
   "attachments": {
    "image.png": {
     "image/png": "[encoded data removed]"
    }
   },
   "cell_type": "markdown",
   "id": "360caefe",
   "metadata": {
    "ExecuteTime": {
     "end_time": "2022-05-06T09:43:24.631731Z",
     "start_time": "2022-05-06T09:43:21.598Z"
    }
   },
   "source": [
    "![image.png](attachment:image.png)"
   ]
  },
  {
   "cell_type": "code",
   "execution_count": 51,
   "id": "f31942ed",
   "metadata": {
    "ExecuteTime": {
     "end_time": "2022-05-06T09:52:44.862735Z",
     "start_time": "2022-05-06T09:52:44.783Z"
    }
   },
   "outputs": [
    {
     "name": "stdout",
     "output_type": "stream",
     "text": [
      "\n",
      " \n",
      "   Cell Contents\n",
      "|-------------------------|\n",
      "|                       N |\n",
      "| Chi-square contribution |\n",
      "|           N / Row Total |\n",
      "|           N / Col Total |\n",
      "|         N / Table Total |\n",
      "|-------------------------|\n",
      "\n",
      " \n",
      "Total Observations in Table:  84 \n",
      "\n",
      " \n",
      "                    | Arthritis$Improved \n",
      "Arthritis$Treatment |      None |      Some |    Marked | Row Total | \n",
      "--------------------|-----------|-----------|-----------|-----------|\n",
      "            Placebo |        29 |         7 |         7 |        43 | \n",
      "                    |     2.616 |     0.004 |     3.752 |           | \n",
      "                    |     0.674 |     0.163 |     0.163 |     0.512 | \n",
      "                    |     0.690 |     0.500 |     0.250 |           | \n",
      "                    |     0.345 |     0.083 |     0.083 |           | \n",
      "--------------------|-----------|-----------|-----------|-----------|\n",
      "            Treated |        13 |         7 |        21 |        41 | \n",
      "                    |     2.744 |     0.004 |     3.935 |           | \n",
      "                    |     0.317 |     0.171 |     0.512 |     0.488 | \n",
      "                    |     0.310 |     0.500 |     0.750 |           | \n",
      "                    |     0.155 |     0.083 |     0.250 |           | \n",
      "--------------------|-----------|-----------|-----------|-----------|\n",
      "       Column Total |        42 |        14 |        28 |        84 | \n",
      "                    |     0.500 |     0.167 |     0.333 |           | \n",
      "--------------------|-----------|-----------|-----------|-----------|\n",
      "\n",
      " \n"
     ]
    }
   ],
   "source": [
    "# 7-10 使用CrossTable生成二维列联表\n",
    "# install.packages(\"gmodels\")\n",
    "library(gmodels)\n",
    "CrossTable(Arthritis$Treatment, Arthritis$Improved)"
   ]
  },
  {
   "attachments": {
    "image.png": {
     "image/png": "[encoded data removed]"
    }
   },
   "cell_type": "markdown",
   "id": "c2db7a4c",
   "metadata": {},
   "source": [
    "![image.png](attachment:image.png)"
   ]
  },
  {
   "cell_type": "code",
   "execution_count": 52,
   "id": "bb5d4715",
   "metadata": {
    "ExecuteTime": {
     "end_time": "2022-05-06T09:53:38.430862Z",
     "start_time": "2022-05-06T09:53:38.408Z"
    },
    "scrolled": true
   },
   "outputs": [
    {
     "data": {
      "text/plain": [
       ", , Improved = None\n",
       "\n",
       "         Sex\n",
       "Treatment Female Male\n",
       "  Placebo     19   10\n",
       "  Treated      6    7\n",
       "\n",
       ", , Improved = Some\n",
       "\n",
       "         Sex\n",
       "Treatment Female Male\n",
       "  Placebo      7    0\n",
       "  Treated      5    2\n",
       "\n",
       ", , Improved = Marked\n",
       "\n",
       "         Sex\n",
       "Treatment Female Male\n",
       "  Placebo      6    1\n",
       "  Treated     16    5\n"
      ]
     },
     "metadata": {},
     "output_type": "display_data"
    }
   ],
   "source": [
    "mytable <- xtabs(~ Treatment+Sex+Improved, data=Arthritis)\n",
    "mytable # 各单元格的频数"
   ]
  },
  {
   "cell_type": "code",
   "execution_count": 53,
   "id": "a66a1bd4",
   "metadata": {
    "ExecuteTime": {
     "end_time": "2022-05-06T09:54:05.324027Z",
     "start_time": "2022-05-06T09:54:05.288Z"
    }
   },
   "outputs": [
    {
     "data": {
      "text/plain": [
       "                 Improved None Some Marked\n",
       "Treatment Sex                             \n",
       "Placebo   Female            19    7      6\n",
       "          Male              10    0      1\n",
       "Treated   Female             6    5     16\n",
       "          Male               7    2      5"
      ]
     },
     "metadata": {},
     "output_type": "display_data"
    }
   ],
   "source": [
    "ftable(mytable)"
   ]
  },
  {
   "cell_type": "code",
   "execution_count": 54,
   "id": "4cb58ca1",
   "metadata": {
    "ExecuteTime": {
     "end_time": "2022-05-06T09:54:20.527165Z",
     "start_time": "2022-05-06T09:54:20.506Z"
    }
   },
   "outputs": [
    {
     "data": {
      "text/plain": [
       "Treatment\n",
       "Placebo Treated \n",
       "     43      41 "
      ]
     },
     "metadata": {},
     "output_type": "display_data"
    }
   ],
   "source": [
    "margin.table(mytable, 1) # 边际频数"
   ]
  },
  {
   "cell_type": "code",
   "execution_count": 55,
   "id": "23dca4c8",
   "metadata": {
    "ExecuteTime": {
     "end_time": "2022-05-06T09:54:36.418083Z",
     "start_time": "2022-05-06T09:54:36.398Z"
    }
   },
   "outputs": [
    {
     "data": {
      "text/plain": [
       "Sex\n",
       "Female   Male \n",
       "    59     25 "
      ]
     },
     "metadata": {},
     "output_type": "display_data"
    }
   ],
   "source": [
    "margin.table(mytable, 2) # "
   ]
  },
  {
   "cell_type": "code",
   "execution_count": 56,
   "id": "0cdb0ae0",
   "metadata": {
    "ExecuteTime": {
     "end_time": "2022-05-06T09:54:53.880108Z",
     "start_time": "2022-05-06T09:54:53.860Z"
    }
   },
   "outputs": [
    {
     "data": {
      "text/plain": [
       "Improved\n",
       "  None   Some Marked \n",
       "    42     14     28 "
      ]
     },
     "metadata": {},
     "output_type": "display_data"
    }
   ],
   "source": [
    "margin.table(mytable, 3)"
   ]
  },
  {
   "cell_type": "code",
   "execution_count": 57,
   "id": "0e367e95",
   "metadata": {
    "ExecuteTime": {
     "end_time": "2022-05-06T09:55:46.132236Z",
     "start_time": "2022-05-06T09:55:46.112Z"
    }
   },
   "outputs": [
    {
     "data": {
      "text/plain": [
       "         Improved\n",
       "Treatment None Some Marked\n",
       "  Placebo   29    7      7\n",
       "  Treated   13    7     21"
      ]
     },
     "metadata": {},
     "output_type": "display_data"
    }
   ],
   "source": [
    "margin.table(mytable, c(1, 3))# 治疗情况（Treatment）× 改善情况（Improved）的边际频数"
   ]
  },
  {
   "cell_type": "code",
   "execution_count": 58,
   "id": "7a13e12b",
   "metadata": {
    "ExecuteTime": {
     "end_time": "2022-05-06T09:55:53.103462Z",
     "start_time": "2022-05-06T09:55:53.082Z"
    }
   },
   "outputs": [
    {
     "data": {
      "text/plain": [
       "                 Improved       None       Some     Marked\n",
       "Treatment Sex                                             \n",
       "Placebo   Female          0.59375000 0.21875000 0.18750000\n",
       "          Male            0.90909091 0.00000000 0.09090909\n",
       "Treated   Female          0.22222222 0.18518519 0.59259259\n",
       "          Male            0.50000000 0.14285714 0.35714286"
      ]
     },
     "metadata": {},
     "output_type": "display_data"
    }
   ],
   "source": [
    " ftable(prop.table(mytable, c(1, 2)))# 治疗情况（Treatment）× 性别（Sex）的各类改善情况比例"
   ]
  },
  {
   "cell_type": "code",
   "execution_count": 60,
   "id": "fae444b9",
   "metadata": {
    "ExecuteTime": {
     "end_time": "2022-05-06T09:57:18.991630Z",
     "start_time": "2022-05-06T09:57:18.970Z"
    }
   },
   "outputs": [
    {
     "data": {
      "text/plain": [
       "                 Improved       None       Some     Marked        Sum\n",
       "Treatment Sex                                                        \n",
       "Placebo   Female          0.59375000 0.21875000 0.18750000 1.00000000\n",
       "          Male            0.90909091 0.00000000 0.09090909 1.00000000\n",
       "Treated   Female          0.22222222 0.18518519 0.59259259 1.00000000\n",
       "          Male            0.50000000 0.14285714 0.35714286 1.00000000"
      ]
     },
     "metadata": {},
     "output_type": "display_data"
    }
   ],
   "source": [
    "ftable(addmargins(prop.table(mytable, c(1, 2)), 3))"
   ]
  },
  {
   "cell_type": "code",
   "execution_count": 61,
   "id": "781f4e41",
   "metadata": {
    "ExecuteTime": {
     "end_time": "2022-05-06T09:57:21.446937Z",
     "start_time": "2022-05-06T09:57:21.428Z"
    }
   },
   "outputs": [],
   "source": [
    "# Treatment需要通过下标1来引用，Sex通过下标2来引用，Improve通过下标3来引用。"
   ]
  },
  {
   "cell_type": "code",
   "execution_count": 62,
   "id": "15716f7a",
   "metadata": {
    "ExecuteTime": {
     "end_time": "2022-05-06T09:57:23.202537Z",
     "start_time": "2022-05-06T09:57:23.181Z"
    }
   },
   "outputs": [
    {
     "data": {
      "text/plain": [
       "                 Improved       None       Some     Marked        Sum\n",
       "Treatment Sex                                                        \n",
       "Placebo   Female           59.375000  21.875000  18.750000 100.000000\n",
       "          Male             90.909091   0.000000   9.090909 100.000000\n",
       "Treated   Female           22.222222  18.518519  59.259259 100.000000\n",
       "          Male             50.000000  14.285714  35.714286 100.000000"
      ]
     },
     "metadata": {},
     "output_type": "display_data"
    }
   ],
   "source": [
    "ftable(addmargins(prop.table(mytable, c(1, 2)), 3)) * 100"
   ]
  },
  {
   "cell_type": "code",
   "execution_count": 63,
   "id": "89a844ee",
   "metadata": {
    "ExecuteTime": {
     "end_time": "2022-05-06T09:58:22.871330Z",
     "start_time": "2022-05-06T09:58:22.839Z"
    }
   },
   "outputs": [
    {
     "data": {
      "text/plain": [
       "\n",
       "\tPearson's Chi-squared test\n",
       "\n",
       "data:  mytable\n",
       "X-squared = 13.055, df = 2, p-value = 0.001463\n"
      ]
     },
     "metadata": {},
     "output_type": "display_data"
    }
   ],
   "source": [
    "# 7.2.2 独立性检验\n",
    "# 的三种检验分别为卡方独立性检验、Fisher精确检验和Cochran-Mantel-Haenszel检验。\n",
    "# 1.卡方独立性检验\n",
    "# 7-12 卡方独立性检验\n",
    "library(vcd)\n",
    "mytable <- xtabs(~Treatment+Improved, data=Arthritis)\n",
    "chisq.test(mytable) # 治疗情况和改善情况不独立"
   ]
  },
  {
   "cell_type": "code",
   "execution_count": 64,
   "id": "e38d8c50",
   "metadata": {
    "ExecuteTime": {
     "end_time": "2022-05-06T09:58:43.615397Z",
     "start_time": "2022-05-06T09:58:43.584Z"
    }
   },
   "outputs": [
    {
     "name": "stderr",
     "output_type": "stream",
     "text": [
      "Warning message in chisq.test(mytable):\n",
      "\"Chi-squared approximation may be incorrect\"\n"
     ]
    },
    {
     "data": {
      "text/plain": [
       "\n",
       "\tPearson's Chi-squared test\n",
       "\n",
       "data:  mytable\n",
       "X-squared = 4.8407, df = 2, p-value = 0.08889\n"
      ]
     },
     "metadata": {},
     "output_type": "display_data"
    }
   ],
   "source": [
    "mytable <- xtabs(~Improved+Sex, data=Arthritis)\n",
    "chisq.test(mytable)# 性别和改善情况独立"
   ]
  },
  {
   "cell_type": "code",
   "execution_count": 65,
   "id": "3050c23e",
   "metadata": {
    "ExecuteTime": {
     "end_time": "2022-05-06T09:59:27.995779Z",
     "start_time": "2022-05-06T09:59:27.970Z"
    }
   },
   "outputs": [
    {
     "data": {
      "text/plain": [
       "\n",
       "\tFisher's Exact Test for Count Data\n",
       "\n",
       "data:  mytable\n",
       "p-value = 0.001393\n",
       "alternative hypothesis: two.sided\n"
      ]
     },
     "metadata": {},
     "output_type": "display_data"
    }
   ],
   "source": [
    "# 2. Fisher精确检验\n",
    "mytable <- xtabs(~Treatment+Improved, data=Arthritis)\n",
    "fisher.test(mytable)\n"
   ]
  },
  {
   "cell_type": "code",
   "execution_count": 66,
   "id": "2590e2aa",
   "metadata": {
    "ExecuteTime": {
     "end_time": "2022-05-06T09:59:48.986816Z",
     "start_time": "2022-05-06T09:59:48.954Z"
    }
   },
   "outputs": [
    {
     "data": {
      "text/plain": [
       "\n",
       "\tCochran-Mantel-Haenszel test\n",
       "\n",
       "data:  mytable\n",
       "Cochran-Mantel-Haenszel M^2 = 14.632, df = 2, p-value = 0.0006647\n"
      ]
     },
     "metadata": {},
     "output_type": "display_data"
    }
   ],
   "source": [
    "# 3. Cochran-Mantel-Haenszel检验\n",
    "mytable <- xtabs(~Treatment+Improved+Sex, data=Arthritis)\n",
    "mantelhaen.test(mytable) "
   ]
  },
  {
   "cell_type": "code",
   "execution_count": null,
   "id": "1aac762b",
   "metadata": {},
   "outputs": [],
   "source": [
    "# 结果表明，患者接受的治疗与得到的改善在性别的每一水平下并不独立（分性别来看，用药\n",
    "# 治疗的患者较接受安慰剂的患者有了更多的改善）。"
   ]
  }
 ],
 "metadata": {
  "hide_input": false,
  "kernelspec": {
   "display_name": "R",
   "language": "R",
   "name": "ir"
  },
  "language_info": {
   "codemirror_mode": "r",
   "file_extension": ".r",
   "mimetype": "text/x-r-source",
   "name": "R",
   "pygments_lexer": "r",
   "version": "4.2.0"
  },
  "toc": {
   "base_numbering": 1,
   "nav_menu": {},
   "number_sections": true,
   "sideBar": true,
   "skip_h1_title": false,
   "title_cell": "Table of Contents",
   "title_sidebar": "Contents",
   "toc_cell": false,
   "toc_position": {},
   "toc_section_display": true,
   "toc_window_display": false
  },
  "varInspector": {
   "cols": {
    "lenName": 16,
    "lenType": 16,
    "lenVar": 40
   },
   "kernels_config": {
    "python": {
     "delete_cmd_postfix": "",
     "delete_cmd_prefix": "del ",
     "library": "var_list.py",
     "varRefreshCmd": "print(var_dic_list())"
    },
    "r": {
     "delete_cmd_postfix": ") ",
     "delete_cmd_prefix": "rm(",
     "library": "var_list.r",
     "varRefreshCmd": "cat(var_dic_list()) "
    }
   },
   "types_to_exclude": [
    "module",
    "function",
    "builtin_function_or_method",
    "instance",
    "_Feature"
   ],
   "window_display": false
  }
 },
 "nbformat": 4,
 "nbformat_minor": 5
}
