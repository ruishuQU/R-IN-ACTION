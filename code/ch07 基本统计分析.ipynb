{
 "cells": [
  {
   "cell_type": "code",
   "execution_count": 1,
   "id": "8bdd2ed6",
   "metadata": {
    "ExecuteTime": {
     "end_time": "2022-05-02T08:58:55.324347Z",
     "start_time": "2022-05-02T08:58:55.290Z"
    }
   },
   "outputs": [
    {
     "data": {
      "text/html": [
       "<table class=\"dataframe\">\n",
       "<caption>A data.frame: 6 × 3</caption>\n",
       "<thead>\n",
       "\t<tr><th></th><th scope=col>mpg</th><th scope=col>hp</th><th scope=col>wt</th></tr>\n",
       "\t<tr><th></th><th scope=col>&lt;dbl&gt;</th><th scope=col>&lt;dbl&gt;</th><th scope=col>&lt;dbl&gt;</th></tr>\n",
       "</thead>\n",
       "<tbody>\n",
       "\t<tr><th scope=row>Mazda RX4</th><td>21.0</td><td>110</td><td>2.620</td></tr>\n",
       "\t<tr><th scope=row>Mazda RX4 Wag</th><td>21.0</td><td>110</td><td>2.875</td></tr>\n",
       "\t<tr><th scope=row>Datsun 710</th><td>22.8</td><td> 93</td><td>2.320</td></tr>\n",
       "\t<tr><th scope=row>Hornet 4 Drive</th><td>21.4</td><td>110</td><td>3.215</td></tr>\n",
       "\t<tr><th scope=row>Hornet Sportabout</th><td>18.7</td><td>175</td><td>3.440</td></tr>\n",
       "\t<tr><th scope=row>Valiant</th><td>18.1</td><td>105</td><td>3.460</td></tr>\n",
       "</tbody>\n",
       "</table>\n"
      ],
      "text/latex": [
       "A data.frame: 6 × 3\n",
       "\\begin{tabular}{r|lll}\n",
       "  & mpg & hp & wt\\\\\n",
       "  & <dbl> & <dbl> & <dbl>\\\\\n",
       "\\hline\n",
       "\tMazda RX4 & 21.0 & 110 & 2.620\\\\\n",
       "\tMazda RX4 Wag & 21.0 & 110 & 2.875\\\\\n",
       "\tDatsun 710 & 22.8 &  93 & 2.320\\\\\n",
       "\tHornet 4 Drive & 21.4 & 110 & 3.215\\\\\n",
       "\tHornet Sportabout & 18.7 & 175 & 3.440\\\\\n",
       "\tValiant & 18.1 & 105 & 3.460\\\\\n",
       "\\end{tabular}\n"
      ],
      "text/markdown": [
       "\n",
       "A data.frame: 6 × 3\n",
       "\n",
       "| <!--/--> | mpg &lt;dbl&gt; | hp &lt;dbl&gt; | wt &lt;dbl&gt; |\n",
       "|---|---|---|---|\n",
       "| Mazda RX4 | 21.0 | 110 | 2.620 |\n",
       "| Mazda RX4 Wag | 21.0 | 110 | 2.875 |\n",
       "| Datsun 710 | 22.8 |  93 | 2.320 |\n",
       "| Hornet 4 Drive | 21.4 | 110 | 3.215 |\n",
       "| Hornet Sportabout | 18.7 | 175 | 3.440 |\n",
       "| Valiant | 18.1 | 105 | 3.460 |\n",
       "\n"
      ],
      "text/plain": [
       "                  mpg  hp  wt   \n",
       "Mazda RX4         21.0 110 2.620\n",
       "Mazda RX4 Wag     21.0 110 2.875\n",
       "Datsun 710        22.8  93 2.320\n",
       "Hornet 4 Drive    21.4 110 3.215\n",
       "Hornet Sportabout 18.7 175 3.440\n",
       "Valiant           18.1 105 3.460"
      ]
     },
     "metadata": {},
     "output_type": "display_data"
    }
   ],
   "source": [
    "# 7.1 描述性统计分析\n",
    "myvars <- c(\"mpg\", \"hp\", \"wt\")\n",
    "head(mtcars[myvars]) "
   ]
  },
  {
   "cell_type": "code",
   "execution_count": 2,
   "id": "7b72aadc",
   "metadata": {
    "ExecuteTime": {
     "end_time": "2022-05-02T08:59:21.773798Z",
     "start_time": "2022-05-02T08:59:21.748Z"
    }
   },
   "outputs": [
    {
     "data": {
      "text/plain": [
       "      mpg              hp              wt       \n",
       " Min.   :10.40   Min.   : 52.0   Min.   :1.513  \n",
       " 1st Qu.:15.43   1st Qu.: 96.5   1st Qu.:2.581  \n",
       " Median :19.20   Median :123.0   Median :3.325  \n",
       " Mean   :20.09   Mean   :146.7   Mean   :3.217  \n",
       " 3rd Qu.:22.80   3rd Qu.:180.0   3rd Qu.:3.610  \n",
       " Max.   :33.90   Max.   :335.0   Max.   :5.424  "
      ]
     },
     "metadata": {},
     "output_type": "display_data"
    }
   ],
   "source": [
    "# 7.1.1 方法云集\n",
    "# 7-1 通过summary()计算描述性统计量\n",
    "myvars <- c(\"mpg\", \"hp\", \"wt\")\n",
    "summary(mtcars[myvars]) "
   ]
  },
  {
   "cell_type": "code",
   "execution_count": 3,
   "id": "e0a7e9d4",
   "metadata": {
    "ExecuteTime": {
     "end_time": "2022-05-02T09:00:02.565507Z",
     "start_time": "2022-05-02T09:00:02.524Z"
    }
   },
   "outputs": [
    {
     "data": {
      "text/html": [
       "<table class=\"dataframe\">\n",
       "<caption>A matrix: 5 × 3 of type dbl</caption>\n",
       "<thead>\n",
       "\t<tr><th></th><th scope=col>mpg</th><th scope=col>hp</th><th scope=col>wt</th></tr>\n",
       "</thead>\n",
       "<tbody>\n",
       "\t<tr><th scope=row>n</th><td>32.000000</td><td> 32.0000000</td><td>32.00000000</td></tr>\n",
       "\t<tr><th scope=row>mean</th><td>20.090625</td><td>146.6875000</td><td> 3.21725000</td></tr>\n",
       "\t<tr><th scope=row>stdev</th><td> 6.026948</td><td> 68.5628685</td><td> 0.97845744</td></tr>\n",
       "\t<tr><th scope=row>skew</th><td> 0.610655</td><td>  0.7260237</td><td> 0.42314646</td></tr>\n",
       "\t<tr><th scope=row>kurtosis</th><td>-0.372766</td><td> -0.1355511</td><td>-0.02271075</td></tr>\n",
       "</tbody>\n",
       "</table>\n"
      ],
      "text/latex": [
       "A matrix: 5 × 3 of type dbl\n",
       "\\begin{tabular}{r|lll}\n",
       "  & mpg & hp & wt\\\\\n",
       "\\hline\n",
       "\tn & 32.000000 &  32.0000000 & 32.00000000\\\\\n",
       "\tmean & 20.090625 & 146.6875000 &  3.21725000\\\\\n",
       "\tstdev &  6.026948 &  68.5628685 &  0.97845744\\\\\n",
       "\tskew &  0.610655 &   0.7260237 &  0.42314646\\\\\n",
       "\tkurtosis & -0.372766 &  -0.1355511 & -0.02271075\\\\\n",
       "\\end{tabular}\n"
      ],
      "text/markdown": [
       "\n",
       "A matrix: 5 × 3 of type dbl\n",
       "\n",
       "| <!--/--> | mpg | hp | wt |\n",
       "|---|---|---|---|\n",
       "| n | 32.000000 |  32.0000000 | 32.00000000 |\n",
       "| mean | 20.090625 | 146.6875000 |  3.21725000 |\n",
       "| stdev |  6.026948 |  68.5628685 |  0.97845744 |\n",
       "| skew |  0.610655 |   0.7260237 |  0.42314646 |\n",
       "| kurtosis | -0.372766 |  -0.1355511 | -0.02271075 |\n",
       "\n"
      ],
      "text/plain": [
       "         mpg       hp          wt         \n",
       "n        32.000000  32.0000000 32.00000000\n",
       "mean     20.090625 146.6875000  3.21725000\n",
       "stdev     6.026948  68.5628685  0.97845744\n",
       "skew      0.610655   0.7260237  0.42314646\n",
       "kurtosis -0.372766  -0.1355511 -0.02271075"
      ]
     },
     "metadata": {},
     "output_type": "display_data"
    }
   ],
   "source": [
    "# 7-2 通过sapply()计算描述性统计量\n",
    "mystats <- function(x, na.omit=FALSE){\n",
    " if (na.omit)\n",
    " x <- x[!is.na(x)]\n",
    " m <- mean(x)\n",
    " n <- length(x)\n",
    " s <- sd(x)\n",
    " skew <- sum((x-m)^3/s^3)/n\n",
    " kurt <- sum((x-m)^4/s^4)/n - 3\n",
    " return(c(n=n, mean=m, stdev=s, skew=skew, kurtosis=kurt))\n",
    " }\n",
    "\n",
    "myvars <- c(\"mpg\", \"hp\", \"wt\")\n",
    "sapply(mtcars[myvars], mystats)"
   ]
  },
  {
   "cell_type": "code",
   "execution_count": 4,
   "id": "3a43d8ad",
   "metadata": {
    "ExecuteTime": {
     "end_time": "2022-05-02T09:08:51.997087Z",
     "start_time": "2022-05-02T09:08:47.518Z"
    }
   },
   "outputs": [
    {
     "name": "stderr",
     "output_type": "stream",
     "text": [
      "Loading required package: lattice\n",
      "\n",
      "Loading required package: survival\n",
      "\n",
      "Loading required package: Formula\n",
      "\n",
      "Loading required package: ggplot2\n",
      "\n",
      "\n",
      "Attaching package: 'Hmisc'\n",
      "\n",
      "\n",
      "The following objects are masked from 'package:base':\n",
      "\n",
      "    format.pval, units\n",
      "\n",
      "\n"
     ]
    },
    {
     "data": {
      "text/plain": [
       "mtcars[myvars] \n",
       "\n",
       " 3  Variables      32  Observations\n",
       "--------------------------------------------------------------------------------\n",
       "mpg \n",
       "       n  missing distinct     Info     Mean      Gmd      .05      .10 \n",
       "      32        0       25    0.999    20.09    6.796    12.00    14.34 \n",
       "     .25      .50      .75      .90      .95 \n",
       "   15.43    19.20    22.80    30.09    31.30 \n",
       "\n",
       "lowest : 10.4 13.3 14.3 14.7 15.0, highest: 26.0 27.3 30.4 32.4 33.9\n",
       "--------------------------------------------------------------------------------\n",
       "hp \n",
       "       n  missing distinct     Info     Mean      Gmd      .05      .10 \n",
       "      32        0       22    0.997    146.7    77.04    63.65    66.00 \n",
       "     .25      .50      .75      .90      .95 \n",
       "   96.50   123.00   180.00   243.50   253.55 \n",
       "\n",
       "lowest :  52  62  65  66  91, highest: 215 230 245 264 335\n",
       "--------------------------------------------------------------------------------\n",
       "wt \n",
       "       n  missing distinct     Info     Mean      Gmd      .05      .10 \n",
       "      32        0       29    0.999    3.217    1.089    1.736    1.956 \n",
       "     .25      .50      .75      .90      .95 \n",
       "   2.581    3.325    3.610    4.048    5.293 \n",
       "\n",
       "lowest : 1.513 1.615 1.835 1.935 2.140, highest: 3.845 4.070 5.250 5.345 5.424\n",
       "--------------------------------------------------------------------------------"
      ]
     },
     "metadata": {},
     "output_type": "display_data"
    }
   ],
   "source": [
    "# 7.1.2 更多方法\n",
    "# 7-3 通过Hmisc包中的describe()函数计算描述性统计量\n",
    "library(Hmisc)\n",
    "myvars <- c(\"mpg\", \"hp\", \"wt\")\n",
    "describe(mtcars[myvars]) "
   ]
  },
  {
   "cell_type": "code",
   "execution_count": 6,
   "id": "5ad58eb1",
   "metadata": {
    "ExecuteTime": {
     "end_time": "2022-05-02T09:10:01.981322Z",
     "start_time": "2022-05-02T09:10:01.678Z"
    }
   },
   "outputs": [
    {
     "data": {
      "text/html": [
       "<table class=\"dataframe\">\n",
       "<caption>A data.frame: 14 × 3</caption>\n",
       "<thead>\n",
       "\t<tr><th></th><th scope=col>mpg</th><th scope=col>hp</th><th scope=col>wt</th></tr>\n",
       "\t<tr><th></th><th scope=col>&lt;dbl&gt;</th><th scope=col>&lt;dbl&gt;</th><th scope=col>&lt;dbl&gt;</th></tr>\n",
       "</thead>\n",
       "<tbody>\n",
       "\t<tr><th scope=row>nbr.val</th><td> 32.0000000</td><td>  32.0000000</td><td> 32.0000000</td></tr>\n",
       "\t<tr><th scope=row>nbr.null</th><td>  0.0000000</td><td>   0.0000000</td><td>  0.0000000</td></tr>\n",
       "\t<tr><th scope=row>nbr.na</th><td>  0.0000000</td><td>   0.0000000</td><td>  0.0000000</td></tr>\n",
       "\t<tr><th scope=row>min</th><td> 10.4000000</td><td>  52.0000000</td><td>  1.5130000</td></tr>\n",
       "\t<tr><th scope=row>max</th><td> 33.9000000</td><td> 335.0000000</td><td>  5.4240000</td></tr>\n",
       "\t<tr><th scope=row>range</th><td> 23.5000000</td><td> 283.0000000</td><td>  3.9110000</td></tr>\n",
       "\t<tr><th scope=row>sum</th><td>642.9000000</td><td>4694.0000000</td><td>102.9520000</td></tr>\n",
       "\t<tr><th scope=row>median</th><td> 19.2000000</td><td> 123.0000000</td><td>  3.3250000</td></tr>\n",
       "\t<tr><th scope=row>mean</th><td> 20.0906250</td><td> 146.6875000</td><td>  3.2172500</td></tr>\n",
       "\t<tr><th scope=row>SE.mean</th><td>  1.0654240</td><td>  12.1203173</td><td>  0.1729685</td></tr>\n",
       "\t<tr><th scope=row>CI.mean.0.95</th><td>  2.1729465</td><td>  24.7195501</td><td>  0.3527715</td></tr>\n",
       "\t<tr><th scope=row>var</th><td> 36.3241028</td><td>4700.8669355</td><td>  0.9573790</td></tr>\n",
       "\t<tr><th scope=row>std.dev</th><td>  6.0269481</td><td>  68.5628685</td><td>  0.9784574</td></tr>\n",
       "\t<tr><th scope=row>coef.var</th><td>  0.2999881</td><td>   0.4674077</td><td>  0.3041285</td></tr>\n",
       "</tbody>\n",
       "</table>\n"
      ],
      "text/latex": [
       "A data.frame: 14 × 3\n",
       "\\begin{tabular}{r|lll}\n",
       "  & mpg & hp & wt\\\\\n",
       "  & <dbl> & <dbl> & <dbl>\\\\\n",
       "\\hline\n",
       "\tnbr.val &  32.0000000 &   32.0000000 &  32.0000000\\\\\n",
       "\tnbr.null &   0.0000000 &    0.0000000 &   0.0000000\\\\\n",
       "\tnbr.na &   0.0000000 &    0.0000000 &   0.0000000\\\\\n",
       "\tmin &  10.4000000 &   52.0000000 &   1.5130000\\\\\n",
       "\tmax &  33.9000000 &  335.0000000 &   5.4240000\\\\\n",
       "\trange &  23.5000000 &  283.0000000 &   3.9110000\\\\\n",
       "\tsum & 642.9000000 & 4694.0000000 & 102.9520000\\\\\n",
       "\tmedian &  19.2000000 &  123.0000000 &   3.3250000\\\\\n",
       "\tmean &  20.0906250 &  146.6875000 &   3.2172500\\\\\n",
       "\tSE.mean &   1.0654240 &   12.1203173 &   0.1729685\\\\\n",
       "\tCI.mean.0.95 &   2.1729465 &   24.7195501 &   0.3527715\\\\\n",
       "\tvar &  36.3241028 & 4700.8669355 &   0.9573790\\\\\n",
       "\tstd.dev &   6.0269481 &   68.5628685 &   0.9784574\\\\\n",
       "\tcoef.var &   0.2999881 &    0.4674077 &   0.3041285\\\\\n",
       "\\end{tabular}\n"
      ],
      "text/markdown": [
       "\n",
       "A data.frame: 14 × 3\n",
       "\n",
       "| <!--/--> | mpg &lt;dbl&gt; | hp &lt;dbl&gt; | wt &lt;dbl&gt; |\n",
       "|---|---|---|---|\n",
       "| nbr.val |  32.0000000 |   32.0000000 |  32.0000000 |\n",
       "| nbr.null |   0.0000000 |    0.0000000 |   0.0000000 |\n",
       "| nbr.na |   0.0000000 |    0.0000000 |   0.0000000 |\n",
       "| min |  10.4000000 |   52.0000000 |   1.5130000 |\n",
       "| max |  33.9000000 |  335.0000000 |   5.4240000 |\n",
       "| range |  23.5000000 |  283.0000000 |   3.9110000 |\n",
       "| sum | 642.9000000 | 4694.0000000 | 102.9520000 |\n",
       "| median |  19.2000000 |  123.0000000 |   3.3250000 |\n",
       "| mean |  20.0906250 |  146.6875000 |   3.2172500 |\n",
       "| SE.mean |   1.0654240 |   12.1203173 |   0.1729685 |\n",
       "| CI.mean.0.95 |   2.1729465 |   24.7195501 |   0.3527715 |\n",
       "| var |  36.3241028 | 4700.8669355 |   0.9573790 |\n",
       "| std.dev |   6.0269481 |   68.5628685 |   0.9784574 |\n",
       "| coef.var |   0.2999881 |    0.4674077 |   0.3041285 |\n",
       "\n"
      ],
      "text/plain": [
       "             mpg         hp           wt         \n",
       "nbr.val       32.0000000   32.0000000  32.0000000\n",
       "nbr.null       0.0000000    0.0000000   0.0000000\n",
       "nbr.na         0.0000000    0.0000000   0.0000000\n",
       "min           10.4000000   52.0000000   1.5130000\n",
       "max           33.9000000  335.0000000   5.4240000\n",
       "range         23.5000000  283.0000000   3.9110000\n",
       "sum          642.9000000 4694.0000000 102.9520000\n",
       "median        19.2000000  123.0000000   3.3250000\n",
       "mean          20.0906250  146.6875000   3.2172500\n",
       "SE.mean        1.0654240   12.1203173   0.1729685\n",
       "CI.mean.0.95   2.1729465   24.7195501   0.3527715\n",
       "var           36.3241028 4700.8669355   0.9573790\n",
       "std.dev        6.0269481   68.5628685   0.9784574\n",
       "coef.var       0.2999881    0.4674077   0.3041285"
      ]
     },
     "metadata": {},
     "output_type": "display_data"
    }
   ],
   "source": [
    "# 7-4 通过pastecs包中的stat.desc()函数计算描述性统计量\n",
    "# install.packages(\"pastecs\")\n",
    "library(pastecs)\n",
    "myvars <- c(\"mpg\", \"hp\", \"wt\")\n",
    "stat.desc(mtcars[myvars])"
   ]
  },
  {
   "cell_type": "code",
   "execution_count": 8,
   "id": "4f1de307",
   "metadata": {
    "ExecuteTime": {
     "end_time": "2022-05-02T09:11:48.837609Z",
     "start_time": "2022-05-02T09:11:48.801Z"
    }
   },
   "outputs": [
    {
     "data": {
      "text/html": [
       "<table class=\"dataframe\">\n",
       "<caption>A psych: 3 × 13</caption>\n",
       "<thead>\n",
       "\t<tr><th></th><th scope=col>vars</th><th scope=col>n</th><th scope=col>mean</th><th scope=col>sd</th><th scope=col>median</th><th scope=col>trimmed</th><th scope=col>mad</th><th scope=col>min</th><th scope=col>max</th><th scope=col>range</th><th scope=col>skew</th><th scope=col>kurtosis</th><th scope=col>se</th></tr>\n",
       "\t<tr><th></th><th scope=col>&lt;int&gt;</th><th scope=col>&lt;dbl&gt;</th><th scope=col>&lt;dbl&gt;</th><th scope=col>&lt;dbl&gt;</th><th scope=col>&lt;dbl&gt;</th><th scope=col>&lt;dbl&gt;</th><th scope=col>&lt;dbl&gt;</th><th scope=col>&lt;dbl&gt;</th><th scope=col>&lt;dbl&gt;</th><th scope=col>&lt;dbl&gt;</th><th scope=col>&lt;dbl&gt;</th><th scope=col>&lt;dbl&gt;</th><th scope=col>&lt;dbl&gt;</th></tr>\n",
       "</thead>\n",
       "<tbody>\n",
       "\t<tr><th scope=row>mpg</th><td>1</td><td>32</td><td> 20.09062</td><td> 6.0269481</td><td> 19.200</td><td> 19.696154</td><td> 5.4114900</td><td>10.400</td><td> 33.900</td><td> 23.500</td><td>0.6106550</td><td>-0.37276603</td><td> 1.0654240</td></tr>\n",
       "\t<tr><th scope=row>hp</th><td>2</td><td>32</td><td>146.68750</td><td>68.5628685</td><td>123.000</td><td>141.192308</td><td>77.0952000</td><td>52.000</td><td>335.000</td><td>283.000</td><td>0.7260237</td><td>-0.13555112</td><td>12.1203173</td></tr>\n",
       "\t<tr><th scope=row>wt</th><td>3</td><td>32</td><td>  3.21725</td><td> 0.9784574</td><td>  3.325</td><td>  3.152692</td><td> 0.7672455</td><td> 1.513</td><td>  5.424</td><td>  3.911</td><td>0.4231465</td><td>-0.02271075</td><td> 0.1729685</td></tr>\n",
       "</tbody>\n",
       "</table>\n"
      ],
      "text/latex": [
       "A psych: 3 × 13\n",
       "\\begin{tabular}{r|lllllllllllll}\n",
       "  & vars & n & mean & sd & median & trimmed & mad & min & max & range & skew & kurtosis & se\\\\\n",
       "  & <int> & <dbl> & <dbl> & <dbl> & <dbl> & <dbl> & <dbl> & <dbl> & <dbl> & <dbl> & <dbl> & <dbl> & <dbl>\\\\\n",
       "\\hline\n",
       "\tmpg & 1 & 32 &  20.09062 &  6.0269481 &  19.200 &  19.696154 &  5.4114900 & 10.400 &  33.900 &  23.500 & 0.6106550 & -0.37276603 &  1.0654240\\\\\n",
       "\thp & 2 & 32 & 146.68750 & 68.5628685 & 123.000 & 141.192308 & 77.0952000 & 52.000 & 335.000 & 283.000 & 0.7260237 & -0.13555112 & 12.1203173\\\\\n",
       "\twt & 3 & 32 &   3.21725 &  0.9784574 &   3.325 &   3.152692 &  0.7672455 &  1.513 &   5.424 &   3.911 & 0.4231465 & -0.02271075 &  0.1729685\\\\\n",
       "\\end{tabular}\n"
      ],
      "text/markdown": [
       "\n",
       "A psych: 3 × 13\n",
       "\n",
       "| <!--/--> | vars &lt;int&gt; | n &lt;dbl&gt; | mean &lt;dbl&gt; | sd &lt;dbl&gt; | median &lt;dbl&gt; | trimmed &lt;dbl&gt; | mad &lt;dbl&gt; | min &lt;dbl&gt; | max &lt;dbl&gt; | range &lt;dbl&gt; | skew &lt;dbl&gt; | kurtosis &lt;dbl&gt; | se &lt;dbl&gt; |\n",
       "|---|---|---|---|---|---|---|---|---|---|---|---|---|---|\n",
       "| mpg | 1 | 32 |  20.09062 |  6.0269481 |  19.200 |  19.696154 |  5.4114900 | 10.400 |  33.900 |  23.500 | 0.6106550 | -0.37276603 |  1.0654240 |\n",
       "| hp | 2 | 32 | 146.68750 | 68.5628685 | 123.000 | 141.192308 | 77.0952000 | 52.000 | 335.000 | 283.000 | 0.7260237 | -0.13555112 | 12.1203173 |\n",
       "| wt | 3 | 32 |   3.21725 |  0.9784574 |   3.325 |   3.152692 |  0.7672455 |  1.513 |   5.424 |   3.911 | 0.4231465 | -0.02271075 |  0.1729685 |\n",
       "\n"
      ],
      "text/plain": [
       "    vars n  mean      sd         median  trimmed    mad        min    max    \n",
       "mpg 1    32  20.09062  6.0269481  19.200  19.696154  5.4114900 10.400  33.900\n",
       "hp  2    32 146.68750 68.5628685 123.000 141.192308 77.0952000 52.000 335.000\n",
       "wt  3    32   3.21725  0.9784574   3.325   3.152692  0.7672455  1.513   5.424\n",
       "    range   skew      kurtosis    se        \n",
       "mpg  23.500 0.6106550 -0.37276603  1.0654240\n",
       "hp  283.000 0.7260237 -0.13555112 12.1203173\n",
       "wt    3.911 0.4231465 -0.02271075  0.1729685"
      ]
     },
     "metadata": {},
     "output_type": "display_data"
    }
   ],
   "source": [
    "# describe()的函数，它可以计算非缺失值的数量、平均数、标准差、中位数、截尾均值、绝对中位差、最小值、最大值、值域、偏度、峰度和平均\n",
    "# 值的标准误。\n",
    "# 7-5 通过psych包中的describe()计算描述性统计量\n",
    "library(psych)\n",
    "myvars <- c(\"mpg\", \"hp\", \"wt\")\n",
    "describe(mtcars[myvars]) "
   ]
  },
  {
   "cell_type": "code",
   "execution_count": 10,
   "id": "eaee3cb7",
   "metadata": {
    "ExecuteTime": {
     "end_time": "2022-05-02T09:12:48.142839Z",
     "start_time": "2022-05-02T09:12:48.100Z"
    }
   },
   "outputs": [
    {
     "data": {
      "text/html": [
       "<table class=\"dataframe\">\n",
       "<caption>A data.frame: 2 × 4</caption>\n",
       "<thead>\n",
       "\t<tr><th scope=col>am</th><th scope=col>mpg</th><th scope=col>hp</th><th scope=col>wt</th></tr>\n",
       "\t<tr><th scope=col>&lt;dbl&gt;</th><th scope=col>&lt;dbl&gt;</th><th scope=col>&lt;dbl&gt;</th><th scope=col>&lt;dbl&gt;</th></tr>\n",
       "</thead>\n",
       "<tbody>\n",
       "\t<tr><td>0</td><td>17.14737</td><td>160.2632</td><td>3.768895</td></tr>\n",
       "\t<tr><td>1</td><td>24.39231</td><td>126.8462</td><td>2.411000</td></tr>\n",
       "</tbody>\n",
       "</table>\n"
      ],
      "text/latex": [
       "A data.frame: 2 × 4\n",
       "\\begin{tabular}{llll}\n",
       " am & mpg & hp & wt\\\\\n",
       " <dbl> & <dbl> & <dbl> & <dbl>\\\\\n",
       "\\hline\n",
       "\t 0 & 17.14737 & 160.2632 & 3.768895\\\\\n",
       "\t 1 & 24.39231 & 126.8462 & 2.411000\\\\\n",
       "\\end{tabular}\n"
      ],
      "text/markdown": [
       "\n",
       "A data.frame: 2 × 4\n",
       "\n",
       "| am &lt;dbl&gt; | mpg &lt;dbl&gt; | hp &lt;dbl&gt; | wt &lt;dbl&gt; |\n",
       "|---|---|---|---|\n",
       "| 0 | 17.14737 | 160.2632 | 3.768895 |\n",
       "| 1 | 24.39231 | 126.8462 | 2.411000 |\n",
       "\n"
      ],
      "text/plain": [
       "  am mpg      hp       wt      \n",
       "1 0  17.14737 160.2632 3.768895\n",
       "2 1  24.39231 126.8462 2.411000"
      ]
     },
     "metadata": {},
     "output_type": "display_data"
    },
    {
     "data": {
      "text/html": [
       "<table class=\"dataframe\">\n",
       "<caption>A data.frame: 2 × 4</caption>\n",
       "<thead>\n",
       "\t<tr><th scope=col>am</th><th scope=col>mpg</th><th scope=col>hp</th><th scope=col>wt</th></tr>\n",
       "\t<tr><th scope=col>&lt;dbl&gt;</th><th scope=col>&lt;dbl&gt;</th><th scope=col>&lt;dbl&gt;</th><th scope=col>&lt;dbl&gt;</th></tr>\n",
       "</thead>\n",
       "<tbody>\n",
       "\t<tr><td>0</td><td>3.833966</td><td>53.90820</td><td>0.7774001</td></tr>\n",
       "\t<tr><td>1</td><td>6.166504</td><td>84.06232</td><td>0.6169816</td></tr>\n",
       "</tbody>\n",
       "</table>\n"
      ],
      "text/latex": [
       "A data.frame: 2 × 4\n",
       "\\begin{tabular}{llll}\n",
       " am & mpg & hp & wt\\\\\n",
       " <dbl> & <dbl> & <dbl> & <dbl>\\\\\n",
       "\\hline\n",
       "\t 0 & 3.833966 & 53.90820 & 0.7774001\\\\\n",
       "\t 1 & 6.166504 & 84.06232 & 0.6169816\\\\\n",
       "\\end{tabular}\n"
      ],
      "text/markdown": [
       "\n",
       "A data.frame: 2 × 4\n",
       "\n",
       "| am &lt;dbl&gt; | mpg &lt;dbl&gt; | hp &lt;dbl&gt; | wt &lt;dbl&gt; |\n",
       "|---|---|---|---|\n",
       "| 0 | 3.833966 | 53.90820 | 0.7774001 |\n",
       "| 1 | 6.166504 | 84.06232 | 0.6169816 |\n",
       "\n"
      ],
      "text/plain": [
       "  am mpg      hp       wt       \n",
       "1 0  3.833966 53.90820 0.7774001\n",
       "2 1  6.166504 84.06232 0.6169816"
      ]
     },
     "metadata": {},
     "output_type": "display_data"
    }
   ],
   "source": [
    "# 7.1.3 分组计算描述性统计量\n",
    "# 7-6 使用aggregate()分组获取描述性统计量\n",
    "myvars <- c(\"mpg\", \"hp\", \"wt\") \n",
    "aggregate(mtcars[myvars], by=list(am=mtcars$am), mean)\n",
    "aggregate(mtcars[myvars], by=list(am=mtcars$am), sd)"
   ]
  },
  {
   "cell_type": "code",
   "execution_count": 11,
   "id": "79ba2113",
   "metadata": {
    "ExecuteTime": {
     "end_time": "2022-05-02T09:13:38.801768Z",
     "start_time": "2022-05-02T09:13:38.775Z"
    }
   },
   "outputs": [
    {
     "data": {
      "text/plain": [
       "mtcars$am: 0\n",
       "                 mpg           hp         wt\n",
       "n        19.00000000  19.00000000 19.0000000\n",
       "mean     17.14736842 160.26315789  3.7688947\n",
       "stdev     3.83396639  53.90819573  0.7774001\n",
       "skew      0.01395038  -0.01422519  0.9759294\n",
       "kurtosis -0.80317826  -1.20969733  0.1415676\n",
       "------------------------------------------------------------ \n",
       "mtcars$am: 1\n",
       "                 mpg          hp         wt\n",
       "n        13.00000000  13.0000000 13.0000000\n",
       "mean     24.39230769 126.8461538  2.4110000\n",
       "stdev     6.16650381  84.0623243  0.6169816\n",
       "skew      0.05256118   1.3598859  0.2103128\n",
       "kurtosis -1.45535200   0.5634635 -1.1737358"
      ]
     },
     "metadata": {},
     "output_type": "display_data"
    }
   ],
   "source": [
    "# 7-7 使用by()分组计算描述性统计量\n",
    "dstats <- function(x)sapply(x, mystats)\n",
    "myvars <- c(\"mpg\", \"hp\", \"wt\")\n",
    "by(mtcars[myvars], mtcars$am, dstats)"
   ]
  },
  {
   "cell_type": "code",
   "execution_count": 14,
   "id": "97cfa4e5",
   "metadata": {
    "ExecuteTime": {
     "end_time": "2022-05-02T09:14:40.345441Z",
     "start_time": "2022-05-02T09:14:39.973Z"
    }
   },
   "outputs": [
    {
     "data": {
      "text/html": [
       "<table class=\"dataframe\">\n",
       "<caption>A data.frame: 2 × 16</caption>\n",
       "<thead>\n",
       "\t<tr><th></th><th scope=col>am</th><th scope=col>mpg.n</th><th scope=col>mpg.mean</th><th scope=col>mpg.stdev</th><th scope=col>mpg.skew</th><th scope=col>mpg.kurtosis</th><th scope=col>hp.n</th><th scope=col>hp.mean</th><th scope=col>hp.stdev</th><th scope=col>hp.skew</th><th scope=col>hp.kurtosis</th><th scope=col>wt.n</th><th scope=col>wt.mean</th><th scope=col>wt.stdev</th><th scope=col>wt.skew</th><th scope=col>wt.kurtosis</th></tr>\n",
       "\t<tr><th></th><th scope=col>&lt;dbl&gt;</th><th scope=col>&lt;dbl&gt;</th><th scope=col>&lt;dbl&gt;</th><th scope=col>&lt;dbl&gt;</th><th scope=col>&lt;dbl&gt;</th><th scope=col>&lt;dbl&gt;</th><th scope=col>&lt;dbl&gt;</th><th scope=col>&lt;dbl&gt;</th><th scope=col>&lt;dbl&gt;</th><th scope=col>&lt;dbl&gt;</th><th scope=col>&lt;dbl&gt;</th><th scope=col>&lt;dbl&gt;</th><th scope=col>&lt;dbl&gt;</th><th scope=col>&lt;dbl&gt;</th><th scope=col>&lt;dbl&gt;</th><th scope=col>&lt;dbl&gt;</th></tr>\n",
       "</thead>\n",
       "<tbody>\n",
       "\t<tr><th scope=row>1</th><td>0</td><td>19</td><td>17.14737</td><td>3.833966</td><td>0.01395038</td><td>-0.8031783</td><td>19</td><td>160.2632</td><td>53.90820</td><td>-0.01422519</td><td>-1.2096973</td><td>19</td><td>3.768895</td><td>0.7774001</td><td>0.9759294</td><td> 0.1415676</td></tr>\n",
       "\t<tr><th scope=row>2</th><td>1</td><td>13</td><td>24.39231</td><td>6.166504</td><td>0.05256118</td><td>-1.4553520</td><td>13</td><td>126.8462</td><td>84.06232</td><td> 1.35988586</td><td> 0.5634635</td><td>13</td><td>2.411000</td><td>0.6169816</td><td>0.2103128</td><td>-1.1737358</td></tr>\n",
       "</tbody>\n",
       "</table>\n"
      ],
      "text/latex": [
       "A data.frame: 2 × 16\n",
       "\\begin{tabular}{r|llllllllllllllll}\n",
       "  & am & mpg.n & mpg.mean & mpg.stdev & mpg.skew & mpg.kurtosis & hp.n & hp.mean & hp.stdev & hp.skew & hp.kurtosis & wt.n & wt.mean & wt.stdev & wt.skew & wt.kurtosis\\\\\n",
       "  & <dbl> & <dbl> & <dbl> & <dbl> & <dbl> & <dbl> & <dbl> & <dbl> & <dbl> & <dbl> & <dbl> & <dbl> & <dbl> & <dbl> & <dbl> & <dbl>\\\\\n",
       "\\hline\n",
       "\t1 & 0 & 19 & 17.14737 & 3.833966 & 0.01395038 & -0.8031783 & 19 & 160.2632 & 53.90820 & -0.01422519 & -1.2096973 & 19 & 3.768895 & 0.7774001 & 0.9759294 &  0.1415676\\\\\n",
       "\t2 & 1 & 13 & 24.39231 & 6.166504 & 0.05256118 & -1.4553520 & 13 & 126.8462 & 84.06232 &  1.35988586 &  0.5634635 & 13 & 2.411000 & 0.6169816 & 0.2103128 & -1.1737358\\\\\n",
       "\\end{tabular}\n"
      ],
      "text/markdown": [
       "\n",
       "A data.frame: 2 × 16\n",
       "\n",
       "| <!--/--> | am &lt;dbl&gt; | mpg.n &lt;dbl&gt; | mpg.mean &lt;dbl&gt; | mpg.stdev &lt;dbl&gt; | mpg.skew &lt;dbl&gt; | mpg.kurtosis &lt;dbl&gt; | hp.n &lt;dbl&gt; | hp.mean &lt;dbl&gt; | hp.stdev &lt;dbl&gt; | hp.skew &lt;dbl&gt; | hp.kurtosis &lt;dbl&gt; | wt.n &lt;dbl&gt; | wt.mean &lt;dbl&gt; | wt.stdev &lt;dbl&gt; | wt.skew &lt;dbl&gt; | wt.kurtosis &lt;dbl&gt; |\n",
       "|---|---|---|---|---|---|---|---|---|---|---|---|---|---|---|---|---|\n",
       "| 1 | 0 | 19 | 17.14737 | 3.833966 | 0.01395038 | -0.8031783 | 19 | 160.2632 | 53.90820 | -0.01422519 | -1.2096973 | 19 | 3.768895 | 0.7774001 | 0.9759294 |  0.1415676 |\n",
       "| 2 | 1 | 13 | 24.39231 | 6.166504 | 0.05256118 | -1.4553520 | 13 | 126.8462 | 84.06232 |  1.35988586 |  0.5634635 | 13 | 2.411000 | 0.6169816 | 0.2103128 | -1.1737358 |\n",
       "\n"
      ],
      "text/plain": [
       "  am mpg.n mpg.mean mpg.stdev mpg.skew   mpg.kurtosis hp.n hp.mean  hp.stdev\n",
       "1 0  19    17.14737 3.833966  0.01395038 -0.8031783   19   160.2632 53.90820\n",
       "2 1  13    24.39231 6.166504  0.05256118 -1.4553520   13   126.8462 84.06232\n",
       "  hp.skew     hp.kurtosis wt.n wt.mean  wt.stdev  wt.skew   wt.kurtosis\n",
       "1 -0.01422519 -1.2096973  19   3.768895 0.7774001 0.9759294  0.1415676 \n",
       "2  1.35988586  0.5634635  13   2.411000 0.6169816 0.2103128 -1.1737358 "
      ]
     },
     "metadata": {},
     "output_type": "display_data"
    }
   ],
   "source": [
    "# 7.1.4 分组计算的扩展\n",
    "# 7-8 使用doBy包中的summaryBy()分组计算概述统计量\n",
    "# install.packages(\"doBy\")\n",
    "library(doBy)\n",
    "summaryBy(mpg+hp+wt~am, data=mtcars, FUN=mystats)"
   ]
  },
  {
   "cell_type": "code",
   "execution_count": 15,
   "id": "a6f72552",
   "metadata": {
    "ExecuteTime": {
     "end_time": "2022-05-02T09:15:05.770976Z",
     "start_time": "2022-05-02T09:15:05.734Z"
    }
   },
   "outputs": [
    {
     "data": {
      "text/plain": [
       "\n",
       " Descriptive statistics by group \n",
       "am: 0\n",
       "    vars  n   mean    sd median trimmed   mad   min    max  range  skew\n",
       "mpg    1 19  17.15  3.83  17.30   17.12  3.11 10.40  24.40  14.00  0.01\n",
       "hp     2 19 160.26 53.91 175.00  161.06 77.10 62.00 245.00 183.00 -0.01\n",
       "wt     3 19   3.77  0.78   3.52    3.75  0.45  2.46   5.42   2.96  0.98\n",
       "    kurtosis    se\n",
       "mpg    -0.80  0.88\n",
       "hp     -1.21 12.37\n",
       "wt      0.14  0.18\n",
       "------------------------------------------------------------ \n",
       "am: 1\n",
       "    vars  n   mean    sd median trimmed   mad   min    max  range skew kurtosis\n",
       "mpg    1 13  24.39  6.17  22.80   24.38  6.67 15.00  33.90  18.90 0.05    -1.46\n",
       "hp     2 13 126.85 84.06 109.00  114.73 63.75 52.00 335.00 283.00 1.36     0.56\n",
       "wt     3 13   2.41  0.62   2.32    2.39  0.68  1.51   3.57   2.06 0.21    -1.17\n",
       "       se\n",
       "mpg  1.71\n",
       "hp  23.31\n",
       "wt   0.17"
      ]
     },
     "metadata": {},
     "output_type": "display_data"
    }
   ],
   "source": [
    "# 7-9 使用psych包中的describeBy()分组计算概述统计量\n",
    "library(psych)\n",
    "myvars <- c(\"mpg\", \"hp\", \"wt\")\n",
    "describeBy(mtcars[myvars], list(am=mtcars$am))"
   ]
  },
  {
   "cell_type": "code",
   "execution_count": null,
   "id": "d1db9d6e",
   "metadata": {},
   "outputs": [],
   "source": []
  }
 ],
 "metadata": {
  "hide_input": false,
  "kernelspec": {
   "display_name": "R",
   "language": "R",
   "name": "ir"
  },
  "language_info": {
   "codemirror_mode": "r",
   "file_extension": ".r",
   "mimetype": "text/x-r-source",
   "name": "R",
   "pygments_lexer": "r",
   "version": "4.2.0"
  },
  "toc": {
   "base_numbering": 1,
   "nav_menu": {},
   "number_sections": true,
   "sideBar": true,
   "skip_h1_title": false,
   "title_cell": "Table of Contents",
   "title_sidebar": "Contents",
   "toc_cell": false,
   "toc_position": {},
   "toc_section_display": true,
   "toc_window_display": false
  },
  "varInspector": {
   "cols": {
    "lenName": 16,
    "lenType": 16,
    "lenVar": 40
   },
   "kernels_config": {
    "python": {
     "delete_cmd_postfix": "",
     "delete_cmd_prefix": "del ",
     "library": "var_list.py",
     "varRefreshCmd": "print(var_dic_list())"
    },
    "r": {
     "delete_cmd_postfix": ") ",
     "delete_cmd_prefix": "rm(",
     "library": "var_list.r",
     "varRefreshCmd": "cat(var_dic_list()) "
    }
   },
   "types_to_exclude": [
    "module",
    "function",
    "builtin_function_or_method",
    "instance",
    "_Feature"
   ],
   "window_display": false
  }
 },
 "nbformat": 4,
 "nbformat_minor": 5
}
